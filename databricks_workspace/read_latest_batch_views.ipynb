{
 "cells": [
  {
   "cell_type": "markdown",
   "metadata": {
    "application/vnd.databricks.v1+cell": {
     "cellMetadata": {
      "byteLimit": 2048000,
      "rowLimit": 10000
     },
     "inputWidgets": {},
     "nuid": "ffca1502-1dfe-4a0a-bca3-a196e81297e5",
     "showTitle": false,
     "title": ""
    }
   },
   "source": [
    "## Latest Batch Views\n",
    "### 1. Most popular category per country"
   ]
  },
  {
   "cell_type": "code",
   "execution_count": 0,
   "metadata": {
    "application/vnd.databricks.v1+cell": {
     "cellMetadata": {
      "byteLimit": 2048000,
      "rowLimit": 10000
     },
     "inputWidgets": {},
     "nuid": "2c46abce-9ef9-40f4-8e09-7095b790f558",
     "showTitle": false,
     "title": ""
    }
   },
   "outputs": [
    {
     "output_type": "display_data",
     "data": {
      "text/html": [
       "<style scoped>\n",
       "  .table-result-container {\n",
       "    max-height: 300px;\n",
       "    overflow: auto;\n",
       "  }\n",
       "  table, th, td {\n",
       "    border: 1px solid black;\n",
       "    border-collapse: collapse;\n",
       "  }\n",
       "  th, td {\n",
       "    padding: 5px;\n",
       "  }\n",
       "  th {\n",
       "    text-align: left;\n",
       "  }\n",
       "</style><div class='table-result-container'><table class='table-result'><thead style='background-color: white'><tr><th>country</th><th>category</th><th>category_count</th></tr></thead><tbody><tr><td>Afghanistan</td><td>education</td><td>17</td></tr><tr><td>Albania</td><td>diy-and-crafts</td><td>320</td></tr><tr><td>Algeria</td><td>quotes</td><td>31</td></tr><tr><td>American Samoa</td><td>education</td><td>16</td></tr><tr><td>Andorra</td><td>tattoos</td><td>16</td></tr><tr><td>Angola</td><td>diy-and-crafts</td><td>95</td></tr><tr><td>Anguilla</td><td>home-decor</td><td>158</td></tr><tr><td>Antarctica (the territory South of 60 deg S)</td><td>christmas</td><td>50</td></tr><tr><td>Antigua and Barbuda</td><td>art</td><td>17</td></tr><tr><td>Argentina</td><td>tattoos</td><td>21</td></tr><tr><td>Armenia</td><td>diy-and-crafts</td><td>187</td></tr><tr><td>Aruba</td><td>tattoos</td><td>578</td></tr><tr><td>Australia</td><td>mens-fashion</td><td>58</td></tr><tr><td>Austria</td><td>travel</td><td>66</td></tr><tr><td>Azerbaijan</td><td>event-planning</td><td>359</td></tr><tr><td>Bahamas</td><td>art</td><td>9</td></tr><tr><td>Bahrain</td><td>travel</td><td>6</td></tr><tr><td>Bangladesh</td><td>art</td><td>67</td></tr><tr><td>Barbados</td><td>travel</td><td>65</td></tr><tr><td>Belarus</td><td>travel</td><td>2</td></tr><tr><td>Belgium</td><td>christmas</td><td>2</td></tr><tr><td>Belize</td><td>diy-and-crafts</td><td>4</td></tr><tr><td>Benin</td><td>travel</td><td>5</td></tr><tr><td>Bermuda</td><td>christmas</td><td>12</td></tr><tr><td>Bhutan</td><td>diy-and-crafts</td><td>6</td></tr><tr><td>Bolivia</td><td>home-decor</td><td>5</td></tr><tr><td>Bosnia and Herzegovina</td><td>christmas</td><td>2</td></tr><tr><td>Bosnia and Herzegovina</td><td>education</td><td>2</td></tr><tr><td>Botswana</td><td>tattoos</td><td>26</td></tr><tr><td>Bouvet Island (Bouvetoya)</td><td>tattoos</td><td>5</td></tr><tr><td>Brazil</td><td>christmas</td><td>4</td></tr><tr><td>British Indian Ocean Territory (Chagos Archipelago)</td><td>mens-fashion</td><td>1</td></tr><tr><td>British Indian Ocean Territory (Chagos Archipelago)</td><td>finance</td><td>1</td></tr><tr><td>British Indian Ocean Territory (Chagos Archipelago)</td><td>tattoos</td><td>1</td></tr><tr><td>British Virgin Islands</td><td>christmas</td><td>11</td></tr><tr><td>Brunei Darussalam</td><td>diy-and-crafts</td><td>2</td></tr><tr><td>Bulgaria</td><td>finance</td><td>320</td></tr><tr><td>Burkina Faso</td><td>quotes</td><td>6</td></tr><tr><td>Burundi</td><td>mens-fashion</td><td>1</td></tr><tr><td>Burundi</td><td>education</td><td>1</td></tr><tr><td>Burundi</td><td>christmas</td><td>1</td></tr><tr><td>Cambodia</td><td>diy-and-crafts</td><td>176</td></tr><tr><td>Cameroon</td><td>travel</td><td>5</td></tr><tr><td>Canada</td><td>travel</td><td>4</td></tr><tr><td>Canada</td><td>christmas</td><td>4</td></tr><tr><td>Cape Verde</td><td>diy-and-crafts</td><td>7</td></tr><tr><td>Cayman Islands</td><td>travel</td><td>1</td></tr><tr><td>Central African Republic</td><td>christmas</td><td>49</td></tr><tr><td>Chad</td><td>diy-and-crafts</td><td>1</td></tr><tr><td>Chad</td><td>finance</td><td>1</td></tr><tr><td>Chile</td><td>quotes</td><td>4</td></tr><tr><td>China</td><td>quotes</td><td>1</td></tr><tr><td>China</td><td>beauty</td><td>1</td></tr><tr><td>Christmas Island</td><td>travel</td><td>10</td></tr><tr><td>Cocos (Keeling) Islands</td><td>vehicles</td><td>336</td></tr><tr><td>Colombia</td><td>finance</td><td>114</td></tr><tr><td>Comoros</td><td>quotes</td><td>4</td></tr><tr><td>Comoros</td><td>education</td><td>4</td></tr><tr><td>Congo</td><td>art</td><td>25</td></tr><tr><td>Cook Islands</td><td>travel</td><td>1</td></tr><tr><td>Costa Rica</td><td>home-decor</td><td>2</td></tr><tr><td>Cote d'Ivoire</td><td>diy-and-crafts</td><td>306</td></tr><tr><td>Croatia</td><td>finance</td><td>6</td></tr><tr><td>Cuba</td><td>mens-fashion</td><td>4</td></tr><tr><td>Cyprus</td><td>home-decor</td><td>4</td></tr><tr><td>Czech Republic</td><td>event-planning</td><td>4</td></tr><tr><td>Denmark</td><td>beauty</td><td>9</td></tr><tr><td>Djibouti</td><td>diy-and-crafts</td><td>5</td></tr><tr><td>Dominica</td><td>diy-and-crafts</td><td>4</td></tr><tr><td>Dominican Republic</td><td>travel</td><td>56</td></tr><tr><td>Ecuador</td><td>mens-fashion</td><td>8</td></tr><tr><td>Egypt</td><td>diy-and-crafts</td><td>16</td></tr><tr><td>El Salvador</td><td>event-planning</td><td>1</td></tr><tr><td>El Salvador</td><td>beauty</td><td>1</td></tr><tr><td>El Salvador</td><td>quotes</td><td>1</td></tr><tr><td>Equatorial Guinea</td><td>travel</td><td>4</td></tr><tr><td>Eritrea</td><td>art</td><td>1</td></tr><tr><td>Estonia</td><td>christmas</td><td>1</td></tr><tr><td>Estonia</td><td>vehicles</td><td>1</td></tr><tr><td>Ethiopia</td><td>tattoos</td><td>1</td></tr><tr><td>Ethiopia</td><td>finance</td><td>1</td></tr><tr><td>Ethiopia</td><td>travel</td><td>1</td></tr><tr><td>Falkland Islands (Malvinas)</td><td>christmas</td><td>1</td></tr><tr><td>Falkland Islands (Malvinas)</td><td>education</td><td>1</td></tr><tr><td>Faroe Islands</td><td>finance</td><td>4</td></tr><tr><td>Faroe Islands</td><td>tattoos</td><td>4</td></tr><tr><td>Fiji</td><td>mens-fashion</td><td>2</td></tr><tr><td>Finland</td><td>beauty</td><td>5</td></tr><tr><td>France</td><td>beauty</td><td>2</td></tr><tr><td>French Guiana</td><td>quotes</td><td>126</td></tr><tr><td>French Polynesia</td><td>diy-and-crafts</td><td>4</td></tr><tr><td>French Southern Territories</td><td>home-decor</td><td>4</td></tr><tr><td>Gabon</td><td>travel</td><td>1</td></tr><tr><td>Gabon</td><td>education</td><td>1</td></tr><tr><td>Gabon</td><td>home-decor</td><td>1</td></tr><tr><td>Georgia</td><td>education</td><td>5</td></tr><tr><td>Germany</td><td>event-planning</td><td>16</td></tr><tr><td>Ghana</td><td>beauty</td><td>4</td></tr><tr><td>Gibraltar</td><td>vehicles</td><td>9</td></tr><tr><td>Greece</td><td>mens-fashion</td><td>4</td></tr><tr><td>Greenland</td><td>education</td><td>1</td></tr><tr><td>Grenada</td><td>vehicles</td><td>4</td></tr><tr><td>Guadeloupe</td><td>home-decor</td><td>4</td></tr><tr><td>Guam</td><td>travel</td><td>4</td></tr><tr><td>Guatemala</td><td>finance</td><td>4</td></tr><tr><td>Guatemala</td><td>art</td><td>4</td></tr><tr><td>Guernsey</td><td>mens-fashion</td><td>1</td></tr><tr><td>Guernsey</td><td>tattoos</td><td>1</td></tr><tr><td>Guernsey</td><td>home-decor</td><td>1</td></tr><tr><td>Guinea</td><td>diy-and-crafts</td><td>1</td></tr><tr><td>Guinea</td><td>christmas</td><td>1</td></tr><tr><td>Guinea</td><td>vehicles</td><td>1</td></tr><tr><td>Guinea-Bissau</td><td>tattoos</td><td>4</td></tr><tr><td>Guyana</td><td>home-decor</td><td>1</td></tr><tr><td>Guyana</td><td>tattoos</td><td>1</td></tr><tr><td>Haiti</td><td>home-decor</td><td>2</td></tr><tr><td>Heard Island and McDonald Islands</td><td>quotes</td><td>1</td></tr><tr><td>Heard Island and McDonald Islands</td><td>mens-fashion</td><td>1</td></tr><tr><td>Holy See (Vatican City State)</td><td>mens-fashion</td><td>1</td></tr><tr><td>Honduras</td><td>event-planning</td><td>1</td></tr><tr><td>Honduras</td><td>beauty</td><td>1</td></tr><tr><td>Hong Kong</td><td>home-decor</td><td>1</td></tr><tr><td>Hong Kong</td><td>event-planning</td><td>1</td></tr><tr><td>Hungary</td><td>vehicles</td><td>2</td></tr><tr><td>Iceland</td><td>diy-and-crafts</td><td>1</td></tr><tr><td>India</td><td>travel</td><td>30</td></tr><tr><td>Indonesia</td><td>finance</td><td>6</td></tr><tr><td>Iran</td><td>christmas</td><td>2</td></tr><tr><td>Ireland</td><td>home-decor</td><td>4</td></tr><tr><td>Isle of Man</td><td>finance</td><td>9</td></tr><tr><td>Israel</td><td>quotes</td><td>4</td></tr><tr><td>Italy</td><td>beauty</td><td>1</td></tr><tr><td>Jamaica</td><td>vehicles</td><td>108</td></tr><tr><td>Japan</td><td>mens-fashion</td><td>1</td></tr><tr><td>Japan</td><td>art</td><td>1</td></tr><tr><td>Kazakhstan</td><td>tattoos</td><td>1</td></tr><tr><td>Kenya</td><td>diy-and-crafts</td><td>4</td></tr><tr><td>Kiribati</td><td>travel</td><td>2</td></tr><tr><td>Korea</td><td>mens-fashion</td><td>2</td></tr><tr><td>Korea</td><td>travel</td><td>2</td></tr><tr><td>Kuwait</td><td>diy-and-crafts</td><td>4</td></tr><tr><td>Kuwait</td><td>quotes</td><td>4</td></tr><tr><td>Kyrgyz Republic</td><td>education</td><td>1</td></tr><tr><td>Kyrgyz Republic</td><td>vehicles</td><td>1</td></tr><tr><td>Lao People's Democratic Republic</td><td>quotes</td><td>1</td></tr><tr><td>Latvia</td><td>mens-fashion</td><td>4</td></tr><tr><td>Lebanon</td><td>quotes</td><td>2</td></tr><tr><td>Lesotho</td><td>art</td><td>14</td></tr><tr><td>Liberia</td><td>christmas</td><td>1</td></tr><tr><td>Libyan Arab Jamahiriya</td><td>christmas</td><td>4</td></tr><tr><td>Liechtenstein</td><td>mens-fashion</td><td>2</td></tr><tr><td>Lithuania</td><td>education</td><td>4</td></tr><tr><td>Luxembourg</td><td>education</td><td>1</td></tr><tr><td>Macao</td><td>vehicles</td><td>4</td></tr><tr><td>Macao</td><td>mens-fashion</td><td>4</td></tr><tr><td>Macedonia</td><td>tattoos</td><td>4</td></tr><tr><td>Madagascar</td><td>home-decor</td><td>4</td></tr><tr><td>Madagascar</td><td>event-planning</td><td>4</td></tr><tr><td>Malawi</td><td>travel</td><td>1</td></tr><tr><td>Maldives</td><td>beauty</td><td>528</td></tr><tr><td>Mali</td><td>christmas</td><td>4</td></tr><tr><td>Malta</td><td>beauty</td><td>1</td></tr><tr><td>Malta</td><td>art</td><td>1</td></tr><tr><td>Malta</td><td>christmas</td><td>1</td></tr><tr><td>Marshall Islands</td><td>home-decor</td><td>4</td></tr><tr><td>Martinique</td><td>quotes</td><td>4</td></tr><tr><td>Mauritania</td><td>education</td><td>9</td></tr><tr><td>Mauritius</td><td>mens-fashion</td><td>1</td></tr><tr><td>Mayotte</td><td>christmas</td><td>4</td></tr><tr><td>Mexico</td><td>home-decor</td><td>1</td></tr><tr><td>Mexico</td><td>vehicles</td><td>1</td></tr><tr><td>Micronesia</td><td>travel</td><td>1</td></tr><tr><td>Moldova</td><td>beauty</td><td>4</td></tr><tr><td>Monaco</td><td>art</td><td>5</td></tr><tr><td>Mongolia</td><td>tattoos</td><td>1</td></tr><tr><td>Mongolia</td><td>mens-fashion</td><td>1</td></tr><tr><td>Montenegro</td><td>christmas</td><td>252</td></tr><tr><td>Montserrat</td><td>art</td><td>9</td></tr><tr><td>Morocco</td><td>quotes</td><td>4</td></tr><tr><td>Mozambique</td><td>home-decor</td><td>81</td></tr><tr><td>Namibia</td><td>event-planning</td><td>4</td></tr><tr><td>Namibia</td><td>quotes</td><td>4</td></tr><tr><td>Nauru</td><td>travel</td><td>1</td></tr><tr><td>Nauru</td><td>mens-fashion</td><td>1</td></tr><tr><td>Nauru</td><td>beauty</td><td>1</td></tr><tr><td>Netherlands</td><td>home-decor</td><td>5</td></tr><tr><td>Netherlands Antilles</td><td>art</td><td>4</td></tr><tr><td>New Caledonia</td><td>mens-fashion</td><td>4</td></tr><tr><td>New Caledonia</td><td>art</td><td>4</td></tr><tr><td>New Zealand</td><td>tattoos</td><td>1</td></tr><tr><td>Nicaragua</td><td>vehicles</td><td>4</td></tr><tr><td>Niger</td><td>education</td><td>1</td></tr><tr><td>Niger</td><td>art</td><td>1</td></tr><tr><td>Niger</td><td>beauty</td><td>1</td></tr><tr><td>Nigeria</td><td>christmas</td><td>1</td></tr><tr><td>Nigeria</td><td>mens-fashion</td><td>1</td></tr><tr><td>Niue</td><td>quotes</td><td>2</td></tr><tr><td>Norfolk Island</td><td>event-planning</td><td>1</td></tr><tr><td>Norfolk Island</td><td>mens-fashion</td><td>1</td></tr><tr><td>Norway</td><td>travel</td><td>4</td></tr><tr><td>Oman</td><td>beauty</td><td>1</td></tr><tr><td>Palestinian Territory</td><td>art</td><td>1</td></tr><tr><td>Palestinian Territory</td><td>vehicles</td><td>1</td></tr><tr><td>Palestinian Territory</td><td>quotes</td><td>1</td></tr><tr><td>Panama</td><td>travel</td><td>9</td></tr><tr><td>Papua New Guinea</td><td>quotes</td><td>16</td></tr><tr><td>Paraguay</td><td>vehicles</td><td>1</td></tr><tr><td>Peru</td><td>tattoos</td><td>1</td></tr><tr><td>Peru</td><td>vehicles</td><td>1</td></tr><tr><td>Philippines</td><td>event-planning</td><td>16</td></tr><tr><td>Pitcairn Islands</td><td>diy-and-crafts</td><td>5</td></tr><tr><td>Poland</td><td>event-planning</td><td>4</td></tr><tr><td>Portugal</td><td>diy-and-crafts</td><td>4</td></tr><tr><td>Puerto Rico</td><td>event-planning</td><td>1</td></tr><tr><td>Puerto Rico</td><td>christmas</td><td>1</td></tr><tr><td>Qatar</td><td>christmas</td><td>1</td></tr><tr><td>Qatar</td><td>beauty</td><td>1</td></tr><tr><td>Qatar</td><td>finance</td><td>1</td></tr><tr><td>Romania</td><td>art</td><td>4</td></tr><tr><td>Rwanda</td><td>travel</td><td>1</td></tr><tr><td>Saint Barthelemy</td><td>education</td><td>4</td></tr><tr><td>Saint Helena</td><td>beauty</td><td>4</td></tr><tr><td>Saint Kitts and Nevis</td><td>vehicles</td><td>16</td></tr><tr><td>Saint Martin</td><td>home-decor</td><td>255</td></tr><tr><td>Saint Pierre and Miquelon</td><td>mens-fashion</td><td>6</td></tr><tr><td>Saint Vincent and the Grenadines</td><td>christmas</td><td>4</td></tr><tr><td>Samoa</td><td>vehicles</td><td>4</td></tr><tr><td>Sao Tome and Principe</td><td>finance</td><td>4</td></tr><tr><td>Sao Tome and Principe</td><td>tattoos</td><td>4</td></tr><tr><td>Saudi Arabia</td><td>finance</td><td>1</td></tr><tr><td>Saudi Arabia</td><td>beauty</td><td>1</td></tr><tr><td>Serbia</td><td>travel</td><td>1</td></tr><tr><td>Seychelles</td><td>tattoos</td><td>25</td></tr><tr><td>Singapore</td><td>education</td><td>1</td></tr><tr><td>Singapore</td><td>vehicles</td><td>1</td></tr><tr><td>Singapore</td><td>travel</td><td>1</td></tr><tr><td>Singapore</td><td>mens-fashion</td><td>1</td></tr><tr><td>Slovakia (Slovak Republic)</td><td>vehicles</td><td>1</td></tr><tr><td>Slovakia (Slovak Republic)</td><td>finance</td><td>1</td></tr><tr><td>Slovenia</td><td>beauty</td><td>1</td></tr><tr><td>Solomon Islands</td><td>art</td><td>4</td></tr><tr><td>Somalia</td><td>quotes</td><td>4</td></tr><tr><td>South Africa</td><td>vehicles</td><td>1</td></tr><tr><td>South Georgia and the South Sandwich Islands</td><td>vehicles</td><td>1</td></tr><tr><td>Sudan</td><td>mens-fashion</td><td>150</td></tr><tr><td>Svalbard & Jan Mayen Islands</td><td>travel</td><td>4</td></tr><tr><td>Swaziland</td><td>travel</td><td>1</td></tr><tr><td>Sweden</td><td>diy-and-crafts</td><td>1</td></tr><tr><td>Sweden</td><td>mens-fashion</td><td>1</td></tr><tr><td>Switzerland</td><td>quotes</td><td>1</td></tr><tr><td>Tajikistan</td><td>travel</td><td>1</td></tr><tr><td>Tajikistan</td><td>beauty</td><td>1</td></tr><tr><td>Tanzania</td><td>art</td><td>4</td></tr><tr><td>Togo</td><td>christmas</td><td>4</td></tr><tr><td>Tokelau</td><td>beauty</td><td>1</td></tr><tr><td>Tonga</td><td>beauty</td><td>16</td></tr><tr><td>Trinidad and Tobago</td><td>christmas</td><td>4</td></tr><tr><td>Tunisia</td><td>diy-and-crafts</td><td>4</td></tr><tr><td>Turkey</td><td>education</td><td>5</td></tr><tr><td>Turkmenistan</td><td>travel</td><td>4</td></tr><tr><td>Turks and Caicos Islands</td><td>tattoos</td><td>2</td></tr><tr><td>Tuvalu</td><td>tattoos</td><td>4</td></tr><tr><td>Uganda</td><td>mens-fashion</td><td>210</td></tr><tr><td>United States Virgin Islands</td><td>quotes</td><td>2</td></tr><tr><td>United States of America</td><td>tattoos</td><td>1</td></tr><tr><td>United States of America</td><td>education</td><td>1</td></tr><tr><td>United States of America</td><td>quotes</td><td>1</td></tr><tr><td>Venezuela</td><td>diy-and-crafts</td><td>4</td></tr><tr><td>Vietnam</td><td>quotes</td><td>4</td></tr><tr><td>Wallis and Futuna</td><td>home-decor</td><td>4</td></tr><tr><td>Yemen</td><td>home-decor</td><td>1</td></tr></tbody></table></div>"
      ]
     },
     "metadata": {
      "application/vnd.databricks.v1+output": {
       "addedWidgets": {},
       "aggData": [],
       "aggError": "",
       "aggOverflow": false,
       "aggSchema": [],
       "aggSeriesLimitReached": false,
       "aggType": "",
       "arguments": {},
       "columnCustomDisplayInfos": {},
       "data": [
        [
         "Afghanistan",
         "education",
         17
        ],
        [
         "Albania",
         "diy-and-crafts",
         320
        ],
        [
         "Algeria",
         "quotes",
         31
        ],
        [
         "American Samoa",
         "education",
         16
        ],
        [
         "Andorra",
         "tattoos",
         16
        ],
        [
         "Angola",
         "diy-and-crafts",
         95
        ],
        [
         "Anguilla",
         "home-decor",
         158
        ],
        [
         "Antarctica (the territory South of 60 deg S)",
         "christmas",
         50
        ],
        [
         "Antigua and Barbuda",
         "art",
         17
        ],
        [
         "Argentina",
         "tattoos",
         21
        ],
        [
         "Armenia",
         "diy-and-crafts",
         187
        ],
        [
         "Aruba",
         "tattoos",
         578
        ],
        [
         "Australia",
         "mens-fashion",
         58
        ],
        [
         "Austria",
         "travel",
         66
        ],
        [
         "Azerbaijan",
         "event-planning",
         359
        ],
        [
         "Bahamas",
         "art",
         9
        ],
        [
         "Bahrain",
         "travel",
         6
        ],
        [
         "Bangladesh",
         "art",
         67
        ],
        [
         "Barbados",
         "travel",
         65
        ],
        [
         "Belarus",
         "travel",
         2
        ],
        [
         "Belgium",
         "christmas",
         2
        ],
        [
         "Belize",
         "diy-and-crafts",
         4
        ],
        [
         "Benin",
         "travel",
         5
        ],
        [
         "Bermuda",
         "christmas",
         12
        ],
        [
         "Bhutan",
         "diy-and-crafts",
         6
        ],
        [
         "Bolivia",
         "home-decor",
         5
        ],
        [
         "Bosnia and Herzegovina",
         "christmas",
         2
        ],
        [
         "Bosnia and Herzegovina",
         "education",
         2
        ],
        [
         "Botswana",
         "tattoos",
         26
        ],
        [
         "Bouvet Island (Bouvetoya)",
         "tattoos",
         5
        ],
        [
         "Brazil",
         "christmas",
         4
        ],
        [
         "British Indian Ocean Territory (Chagos Archipelago)",
         "mens-fashion",
         1
        ],
        [
         "British Indian Ocean Territory (Chagos Archipelago)",
         "finance",
         1
        ],
        [
         "British Indian Ocean Territory (Chagos Archipelago)",
         "tattoos",
         1
        ],
        [
         "British Virgin Islands",
         "christmas",
         11
        ],
        [
         "Brunei Darussalam",
         "diy-and-crafts",
         2
        ],
        [
         "Bulgaria",
         "finance",
         320
        ],
        [
         "Burkina Faso",
         "quotes",
         6
        ],
        [
         "Burundi",
         "mens-fashion",
         1
        ],
        [
         "Burundi",
         "education",
         1
        ],
        [
         "Burundi",
         "christmas",
         1
        ],
        [
         "Cambodia",
         "diy-and-crafts",
         176
        ],
        [
         "Cameroon",
         "travel",
         5
        ],
        [
         "Canada",
         "travel",
         4
        ],
        [
         "Canada",
         "christmas",
         4
        ],
        [
         "Cape Verde",
         "diy-and-crafts",
         7
        ],
        [
         "Cayman Islands",
         "travel",
         1
        ],
        [
         "Central African Republic",
         "christmas",
         49
        ],
        [
         "Chad",
         "diy-and-crafts",
         1
        ],
        [
         "Chad",
         "finance",
         1
        ],
        [
         "Chile",
         "quotes",
         4
        ],
        [
         "China",
         "quotes",
         1
        ],
        [
         "China",
         "beauty",
         1
        ],
        [
         "Christmas Island",
         "travel",
         10
        ],
        [
         "Cocos (Keeling) Islands",
         "vehicles",
         336
        ],
        [
         "Colombia",
         "finance",
         114
        ],
        [
         "Comoros",
         "quotes",
         4
        ],
        [
         "Comoros",
         "education",
         4
        ],
        [
         "Congo",
         "art",
         25
        ],
        [
         "Cook Islands",
         "travel",
         1
        ],
        [
         "Costa Rica",
         "home-decor",
         2
        ],
        [
         "Cote d'Ivoire",
         "diy-and-crafts",
         306
        ],
        [
         "Croatia",
         "finance",
         6
        ],
        [
         "Cuba",
         "mens-fashion",
         4
        ],
        [
         "Cyprus",
         "home-decor",
         4
        ],
        [
         "Czech Republic",
         "event-planning",
         4
        ],
        [
         "Denmark",
         "beauty",
         9
        ],
        [
         "Djibouti",
         "diy-and-crafts",
         5
        ],
        [
         "Dominica",
         "diy-and-crafts",
         4
        ],
        [
         "Dominican Republic",
         "travel",
         56
        ],
        [
         "Ecuador",
         "mens-fashion",
         8
        ],
        [
         "Egypt",
         "diy-and-crafts",
         16
        ],
        [
         "El Salvador",
         "event-planning",
         1
        ],
        [
         "El Salvador",
         "beauty",
         1
        ],
        [
         "El Salvador",
         "quotes",
         1
        ],
        [
         "Equatorial Guinea",
         "travel",
         4
        ],
        [
         "Eritrea",
         "art",
         1
        ],
        [
         "Estonia",
         "christmas",
         1
        ],
        [
         "Estonia",
         "vehicles",
         1
        ],
        [
         "Ethiopia",
         "tattoos",
         1
        ],
        [
         "Ethiopia",
         "finance",
         1
        ],
        [
         "Ethiopia",
         "travel",
         1
        ],
        [
         "Falkland Islands (Malvinas)",
         "christmas",
         1
        ],
        [
         "Falkland Islands (Malvinas)",
         "education",
         1
        ],
        [
         "Faroe Islands",
         "finance",
         4
        ],
        [
         "Faroe Islands",
         "tattoos",
         4
        ],
        [
         "Fiji",
         "mens-fashion",
         2
        ],
        [
         "Finland",
         "beauty",
         5
        ],
        [
         "France",
         "beauty",
         2
        ],
        [
         "French Guiana",
         "quotes",
         126
        ],
        [
         "French Polynesia",
         "diy-and-crafts",
         4
        ],
        [
         "French Southern Territories",
         "home-decor",
         4
        ],
        [
         "Gabon",
         "travel",
         1
        ],
        [
         "Gabon",
         "education",
         1
        ],
        [
         "Gabon",
         "home-decor",
         1
        ],
        [
         "Georgia",
         "education",
         5
        ],
        [
         "Germany",
         "event-planning",
         16
        ],
        [
         "Ghana",
         "beauty",
         4
        ],
        [
         "Gibraltar",
         "vehicles",
         9
        ],
        [
         "Greece",
         "mens-fashion",
         4
        ],
        [
         "Greenland",
         "education",
         1
        ],
        [
         "Grenada",
         "vehicles",
         4
        ],
        [
         "Guadeloupe",
         "home-decor",
         4
        ],
        [
         "Guam",
         "travel",
         4
        ],
        [
         "Guatemala",
         "finance",
         4
        ],
        [
         "Guatemala",
         "art",
         4
        ],
        [
         "Guernsey",
         "mens-fashion",
         1
        ],
        [
         "Guernsey",
         "tattoos",
         1
        ],
        [
         "Guernsey",
         "home-decor",
         1
        ],
        [
         "Guinea",
         "diy-and-crafts",
         1
        ],
        [
         "Guinea",
         "christmas",
         1
        ],
        [
         "Guinea",
         "vehicles",
         1
        ],
        [
         "Guinea-Bissau",
         "tattoos",
         4
        ],
        [
         "Guyana",
         "home-decor",
         1
        ],
        [
         "Guyana",
         "tattoos",
         1
        ],
        [
         "Haiti",
         "home-decor",
         2
        ],
        [
         "Heard Island and McDonald Islands",
         "quotes",
         1
        ],
        [
         "Heard Island and McDonald Islands",
         "mens-fashion",
         1
        ],
        [
         "Holy See (Vatican City State)",
         "mens-fashion",
         1
        ],
        [
         "Honduras",
         "event-planning",
         1
        ],
        [
         "Honduras",
         "beauty",
         1
        ],
        [
         "Hong Kong",
         "home-decor",
         1
        ],
        [
         "Hong Kong",
         "event-planning",
         1
        ],
        [
         "Hungary",
         "vehicles",
         2
        ],
        [
         "Iceland",
         "diy-and-crafts",
         1
        ],
        [
         "India",
         "travel",
         30
        ],
        [
         "Indonesia",
         "finance",
         6
        ],
        [
         "Iran",
         "christmas",
         2
        ],
        [
         "Ireland",
         "home-decor",
         4
        ],
        [
         "Isle of Man",
         "finance",
         9
        ],
        [
         "Israel",
         "quotes",
         4
        ],
        [
         "Italy",
         "beauty",
         1
        ],
        [
         "Jamaica",
         "vehicles",
         108
        ],
        [
         "Japan",
         "mens-fashion",
         1
        ],
        [
         "Japan",
         "art",
         1
        ],
        [
         "Kazakhstan",
         "tattoos",
         1
        ],
        [
         "Kenya",
         "diy-and-crafts",
         4
        ],
        [
         "Kiribati",
         "travel",
         2
        ],
        [
         "Korea",
         "mens-fashion",
         2
        ],
        [
         "Korea",
         "travel",
         2
        ],
        [
         "Kuwait",
         "diy-and-crafts",
         4
        ],
        [
         "Kuwait",
         "quotes",
         4
        ],
        [
         "Kyrgyz Republic",
         "education",
         1
        ],
        [
         "Kyrgyz Republic",
         "vehicles",
         1
        ],
        [
         "Lao People's Democratic Republic",
         "quotes",
         1
        ],
        [
         "Latvia",
         "mens-fashion",
         4
        ],
        [
         "Lebanon",
         "quotes",
         2
        ],
        [
         "Lesotho",
         "art",
         14
        ],
        [
         "Liberia",
         "christmas",
         1
        ],
        [
         "Libyan Arab Jamahiriya",
         "christmas",
         4
        ],
        [
         "Liechtenstein",
         "mens-fashion",
         2
        ],
        [
         "Lithuania",
         "education",
         4
        ],
        [
         "Luxembourg",
         "education",
         1
        ],
        [
         "Macao",
         "vehicles",
         4
        ],
        [
         "Macao",
         "mens-fashion",
         4
        ],
        [
         "Macedonia",
         "tattoos",
         4
        ],
        [
         "Madagascar",
         "home-decor",
         4
        ],
        [
         "Madagascar",
         "event-planning",
         4
        ],
        [
         "Malawi",
         "travel",
         1
        ],
        [
         "Maldives",
         "beauty",
         528
        ],
        [
         "Mali",
         "christmas",
         4
        ],
        [
         "Malta",
         "beauty",
         1
        ],
        [
         "Malta",
         "art",
         1
        ],
        [
         "Malta",
         "christmas",
         1
        ],
        [
         "Marshall Islands",
         "home-decor",
         4
        ],
        [
         "Martinique",
         "quotes",
         4
        ],
        [
         "Mauritania",
         "education",
         9
        ],
        [
         "Mauritius",
         "mens-fashion",
         1
        ],
        [
         "Mayotte",
         "christmas",
         4
        ],
        [
         "Mexico",
         "home-decor",
         1
        ],
        [
         "Mexico",
         "vehicles",
         1
        ],
        [
         "Micronesia",
         "travel",
         1
        ],
        [
         "Moldova",
         "beauty",
         4
        ],
        [
         "Monaco",
         "art",
         5
        ],
        [
         "Mongolia",
         "tattoos",
         1
        ],
        [
         "Mongolia",
         "mens-fashion",
         1
        ],
        [
         "Montenegro",
         "christmas",
         252
        ],
        [
         "Montserrat",
         "art",
         9
        ],
        [
         "Morocco",
         "quotes",
         4
        ],
        [
         "Mozambique",
         "home-decor",
         81
        ],
        [
         "Namibia",
         "event-planning",
         4
        ],
        [
         "Namibia",
         "quotes",
         4
        ],
        [
         "Nauru",
         "travel",
         1
        ],
        [
         "Nauru",
         "mens-fashion",
         1
        ],
        [
         "Nauru",
         "beauty",
         1
        ],
        [
         "Netherlands",
         "home-decor",
         5
        ],
        [
         "Netherlands Antilles",
         "art",
         4
        ],
        [
         "New Caledonia",
         "mens-fashion",
         4
        ],
        [
         "New Caledonia",
         "art",
         4
        ],
        [
         "New Zealand",
         "tattoos",
         1
        ],
        [
         "Nicaragua",
         "vehicles",
         4
        ],
        [
         "Niger",
         "education",
         1
        ],
        [
         "Niger",
         "art",
         1
        ],
        [
         "Niger",
         "beauty",
         1
        ],
        [
         "Nigeria",
         "christmas",
         1
        ],
        [
         "Nigeria",
         "mens-fashion",
         1
        ],
        [
         "Niue",
         "quotes",
         2
        ],
        [
         "Norfolk Island",
         "event-planning",
         1
        ],
        [
         "Norfolk Island",
         "mens-fashion",
         1
        ],
        [
         "Norway",
         "travel",
         4
        ],
        [
         "Oman",
         "beauty",
         1
        ],
        [
         "Palestinian Territory",
         "art",
         1
        ],
        [
         "Palestinian Territory",
         "vehicles",
         1
        ],
        [
         "Palestinian Territory",
         "quotes",
         1
        ],
        [
         "Panama",
         "travel",
         9
        ],
        [
         "Papua New Guinea",
         "quotes",
         16
        ],
        [
         "Paraguay",
         "vehicles",
         1
        ],
        [
         "Peru",
         "tattoos",
         1
        ],
        [
         "Peru",
         "vehicles",
         1
        ],
        [
         "Philippines",
         "event-planning",
         16
        ],
        [
         "Pitcairn Islands",
         "diy-and-crafts",
         5
        ],
        [
         "Poland",
         "event-planning",
         4
        ],
        [
         "Portugal",
         "diy-and-crafts",
         4
        ],
        [
         "Puerto Rico",
         "event-planning",
         1
        ],
        [
         "Puerto Rico",
         "christmas",
         1
        ],
        [
         "Qatar",
         "christmas",
         1
        ],
        [
         "Qatar",
         "beauty",
         1
        ],
        [
         "Qatar",
         "finance",
         1
        ],
        [
         "Romania",
         "art",
         4
        ],
        [
         "Rwanda",
         "travel",
         1
        ],
        [
         "Saint Barthelemy",
         "education",
         4
        ],
        [
         "Saint Helena",
         "beauty",
         4
        ],
        [
         "Saint Kitts and Nevis",
         "vehicles",
         16
        ],
        [
         "Saint Martin",
         "home-decor",
         255
        ],
        [
         "Saint Pierre and Miquelon",
         "mens-fashion",
         6
        ],
        [
         "Saint Vincent and the Grenadines",
         "christmas",
         4
        ],
        [
         "Samoa",
         "vehicles",
         4
        ],
        [
         "Sao Tome and Principe",
         "finance",
         4
        ],
        [
         "Sao Tome and Principe",
         "tattoos",
         4
        ],
        [
         "Saudi Arabia",
         "finance",
         1
        ],
        [
         "Saudi Arabia",
         "beauty",
         1
        ],
        [
         "Serbia",
         "travel",
         1
        ],
        [
         "Seychelles",
         "tattoos",
         25
        ],
        [
         "Singapore",
         "education",
         1
        ],
        [
         "Singapore",
         "vehicles",
         1
        ],
        [
         "Singapore",
         "travel",
         1
        ],
        [
         "Singapore",
         "mens-fashion",
         1
        ],
        [
         "Slovakia (Slovak Republic)",
         "vehicles",
         1
        ],
        [
         "Slovakia (Slovak Republic)",
         "finance",
         1
        ],
        [
         "Slovenia",
         "beauty",
         1
        ],
        [
         "Solomon Islands",
         "art",
         4
        ],
        [
         "Somalia",
         "quotes",
         4
        ],
        [
         "South Africa",
         "vehicles",
         1
        ],
        [
         "South Georgia and the South Sandwich Islands",
         "vehicles",
         1
        ],
        [
         "Sudan",
         "mens-fashion",
         150
        ],
        [
         "Svalbard & Jan Mayen Islands",
         "travel",
         4
        ],
        [
         "Swaziland",
         "travel",
         1
        ],
        [
         "Sweden",
         "diy-and-crafts",
         1
        ],
        [
         "Sweden",
         "mens-fashion",
         1
        ],
        [
         "Switzerland",
         "quotes",
         1
        ],
        [
         "Tajikistan",
         "travel",
         1
        ],
        [
         "Tajikistan",
         "beauty",
         1
        ],
        [
         "Tanzania",
         "art",
         4
        ],
        [
         "Togo",
         "christmas",
         4
        ],
        [
         "Tokelau",
         "beauty",
         1
        ],
        [
         "Tonga",
         "beauty",
         16
        ],
        [
         "Trinidad and Tobago",
         "christmas",
         4
        ],
        [
         "Tunisia",
         "diy-and-crafts",
         4
        ],
        [
         "Turkey",
         "education",
         5
        ],
        [
         "Turkmenistan",
         "travel",
         4
        ],
        [
         "Turks and Caicos Islands",
         "tattoos",
         2
        ],
        [
         "Tuvalu",
         "tattoos",
         4
        ],
        [
         "Uganda",
         "mens-fashion",
         210
        ],
        [
         "United States Virgin Islands",
         "quotes",
         2
        ],
        [
         "United States of America",
         "tattoos",
         1
        ],
        [
         "United States of America",
         "education",
         1
        ],
        [
         "United States of America",
         "quotes",
         1
        ],
        [
         "Venezuela",
         "diy-and-crafts",
         4
        ],
        [
         "Vietnam",
         "quotes",
         4
        ],
        [
         "Wallis and Futuna",
         "home-decor",
         4
        ],
        [
         "Yemen",
         "home-decor",
         1
        ]
       ],
       "datasetInfos": [],
       "dbfsResultPath": null,
       "isJsonSchema": true,
       "metadata": {},
       "overflow": false,
       "plotOptions": {
        "customPlotOptions": {},
        "displayType": "table",
        "pivotAggregation": null,
        "pivotColumns": null,
        "xColumns": null,
        "yColumns": null
       },
       "removedWidgets": [],
       "schema": [
        {
         "metadata": "{}",
         "name": "country",
         "type": "\"string\""
        },
        {
         "metadata": "{}",
         "name": "category",
         "type": "\"string\""
        },
        {
         "metadata": "{}",
         "name": "category_count",
         "type": "\"long\""
        }
       ],
       "type": "table"
      }
     },
     "output_type": "display_data"
    }
   ],
   "source": [
    "batch_view1 = spark.read.parquet(\"/tmp/parquet/most_popular_category_per_country\")\n",
    "display(batch_view1)"
   ]
  },
  {
   "cell_type": "markdown",
   "metadata": {
    "application/vnd.databricks.v1+cell": {
     "cellMetadata": {
      "byteLimit": 2048000,
      "rowLimit": 10000
     },
     "inputWidgets": {},
     "nuid": "0ffff0a4-ca41-49de-93b7-92deb6dd126b",
     "showTitle": false,
     "title": ""
    }
   },
   "source": [
    "### 2a. Frequency of posts per category between 2018 and 2022, in order of popularity"
   ]
  },
  {
   "cell_type": "code",
   "execution_count": 0,
   "metadata": {
    "application/vnd.databricks.v1+cell": {
     "cellMetadata": {
      "byteLimit": 2048000,
      "rowLimit": 10000
     },
     "inputWidgets": {},
     "nuid": "1c7632fe-3a1a-443d-8a61-ee91c7487dbd",
     "showTitle": false,
     "title": ""
    }
   },
   "outputs": [
    {
     "output_type": "display_data",
     "data": {
      "text/html": [
       "<style scoped>\n",
       "  .table-result-container {\n",
       "    max-height: 300px;\n",
       "    overflow: auto;\n",
       "  }\n",
       "  table, th, td {\n",
       "    border: 1px solid black;\n",
       "    border-collapse: collapse;\n",
       "  }\n",
       "  th, td {\n",
       "    padding: 5px;\n",
       "  }\n",
       "  th {\n",
       "    text-align: left;\n",
       "  }\n",
       "</style><div class='table-result-container'><table class='table-result'><thead style='background-color: white'><tr><th>post_year</th><th>category</th><th>category_count</th></tr></thead><tbody><tr><td>2018</td><td>beauty</td><td>551</td></tr><tr><td>2018</td><td>diy-and-crafts</td><td>400</td></tr><tr><td>2018</td><td>vehicles</td><td>126</td></tr><tr><td>2018</td><td>travel</td><td>104</td></tr><tr><td>2018</td><td>mens-fashion</td><td>72</td></tr><tr><td>2018</td><td>christmas</td><td>55</td></tr><tr><td>2018</td><td>quotes</td><td>51</td></tr><tr><td>2018</td><td>education</td><td>46</td></tr><tr><td>2018</td><td>art</td><td>46</td></tr><tr><td>2018</td><td>tattoos</td><td>16</td></tr><tr><td>2018</td><td>finance</td><td>16</td></tr><tr><td>2018</td><td>event-planning</td><td>11</td></tr><tr><td>2018</td><td>home-decor</td><td>9</td></tr><tr><td>2019</td><td>diy-and-crafts</td><td>445</td></tr><tr><td>2019</td><td>mens-fashion</td><td>368</td></tr><tr><td>2019</td><td>christmas</td><td>339</td></tr><tr><td>2019</td><td>education</td><td>318</td></tr><tr><td>2019</td><td>quotes</td><td>141</td></tr><tr><td>2019</td><td>travel</td><td>123</td></tr><tr><td>2019</td><td>home-decor</td><td>110</td></tr><tr><td>2019</td><td>event-planning</td><td>58</td></tr><tr><td>2019</td><td>art</td><td>46</td></tr><tr><td>2019</td><td>vehicles</td><td>33</td></tr><tr><td>2019</td><td>tattoos</td><td>17</td></tr><tr><td>2019</td><td>finance</td><td>16</td></tr><tr><td>2019</td><td>beauty</td><td>14</td></tr><tr><td>2020</td><td>tattoos</td><td>602</td></tr><tr><td>2020</td><td>mens-fashion</td><td>469</td></tr><tr><td>2020</td><td>home-decor</td><td>296</td></tr><tr><td>2020</td><td>diy-and-crafts</td><td>149</td></tr><tr><td>2020</td><td>art</td><td>103</td></tr><tr><td>2020</td><td>travel</td><td>100</td></tr><tr><td>2020</td><td>christmas</td><td>51</td></tr><tr><td>2020</td><td>finance</td><td>34</td></tr><tr><td>2020</td><td>event-planning</td><td>23</td></tr><tr><td>2020</td><td>beauty</td><td>22</td></tr><tr><td>2020</td><td>quotes</td><td>19</td></tr><tr><td>2020</td><td>education</td><td>17</td></tr><tr><td>2020</td><td>vehicles</td><td>12</td></tr><tr><td>2021</td><td>finance</td><td>458</td></tr><tr><td>2021</td><td>event-planning</td><td>377</td></tr><tr><td>2021</td><td>diy-and-crafts</td><td>207</td></tr><tr><td>2021</td><td>home-decor</td><td>167</td></tr><tr><td>2021</td><td>art</td><td>69</td></tr><tr><td>2021</td><td>tattoos</td><td>68</td></tr><tr><td>2021</td><td>quotes</td><td>45</td></tr><tr><td>2021</td><td>education</td><td>27</td></tr><tr><td>2021</td><td>vehicles</td><td>27</td></tr><tr><td>2021</td><td>christmas</td><td>21</td></tr><tr><td>2021</td><td>travel</td><td>21</td></tr><tr><td>2021</td><td>beauty</td><td>20</td></tr><tr><td>2021</td><td>mens-fashion</td><td>18</td></tr><tr><td>2022</td><td>vehicles</td><td>342</td></tr><tr><td>2022</td><td>christmas</td><td>91</td></tr><tr><td>2022</td><td>beauty</td><td>61</td></tr><tr><td>2022</td><td>tattoos</td><td>45</td></tr><tr><td>2022</td><td>mens-fashion</td><td>38</td></tr><tr><td>2022</td><td>quotes</td><td>36</td></tr><tr><td>2022</td><td>diy-and-crafts</td><td>32</td></tr><tr><td>2022</td><td>art</td><td>32</td></tr><tr><td>2022</td><td>home-decor</td><td>23</td></tr><tr><td>2022</td><td>finance</td><td>17</td></tr><tr><td>2022</td><td>education</td><td>15</td></tr><tr><td>2022</td><td>travel</td><td>14</td></tr><tr><td>2022</td><td>event-planning</td><td>12</td></tr></tbody></table></div>"
      ]
     },
     "metadata": {
      "application/vnd.databricks.v1+output": {
       "addedWidgets": {},
       "aggData": [],
       "aggError": "",
       "aggOverflow": false,
       "aggSchema": [],
       "aggSeriesLimitReached": false,
       "aggType": "",
       "arguments": {},
       "columnCustomDisplayInfos": {},
       "data": [
        [
         2018,
         "beauty",
         551
        ],
        [
         2018,
         "diy-and-crafts",
         400
        ],
        [
         2018,
         "vehicles",
         126
        ],
        [
         2018,
         "travel",
         104
        ],
        [
         2018,
         "mens-fashion",
         72
        ],
        [
         2018,
         "christmas",
         55
        ],
        [
         2018,
         "quotes",
         51
        ],
        [
         2018,
         "education",
         46
        ],
        [
         2018,
         "art",
         46
        ],
        [
         2018,
         "tattoos",
         16
        ],
        [
         2018,
         "finance",
         16
        ],
        [
         2018,
         "event-planning",
         11
        ],
        [
         2018,
         "home-decor",
         9
        ],
        [
         2019,
         "diy-and-crafts",
         445
        ],
        [
         2019,
         "mens-fashion",
         368
        ],
        [
         2019,
         "christmas",
         339
        ],
        [
         2019,
         "education",
         318
        ],
        [
         2019,
         "quotes",
         141
        ],
        [
         2019,
         "travel",
         123
        ],
        [
         2019,
         "home-decor",
         110
        ],
        [
         2019,
         "event-planning",
         58
        ],
        [
         2019,
         "art",
         46
        ],
        [
         2019,
         "vehicles",
         33
        ],
        [
         2019,
         "tattoos",
         17
        ],
        [
         2019,
         "finance",
         16
        ],
        [
         2019,
         "beauty",
         14
        ],
        [
         2020,
         "tattoos",
         602
        ],
        [
         2020,
         "mens-fashion",
         469
        ],
        [
         2020,
         "home-decor",
         296
        ],
        [
         2020,
         "diy-and-crafts",
         149
        ],
        [
         2020,
         "art",
         103
        ],
        [
         2020,
         "travel",
         100
        ],
        [
         2020,
         "christmas",
         51
        ],
        [
         2020,
         "finance",
         34
        ],
        [
         2020,
         "event-planning",
         23
        ],
        [
         2020,
         "beauty",
         22
        ],
        [
         2020,
         "quotes",
         19
        ],
        [
         2020,
         "education",
         17
        ],
        [
         2020,
         "vehicles",
         12
        ],
        [
         2021,
         "finance",
         458
        ],
        [
         2021,
         "event-planning",
         377
        ],
        [
         2021,
         "diy-and-crafts",
         207
        ],
        [
         2021,
         "home-decor",
         167
        ],
        [
         2021,
         "art",
         69
        ],
        [
         2021,
         "tattoos",
         68
        ],
        [
         2021,
         "quotes",
         45
        ],
        [
         2021,
         "education",
         27
        ],
        [
         2021,
         "vehicles",
         27
        ],
        [
         2021,
         "christmas",
         21
        ],
        [
         2021,
         "travel",
         21
        ],
        [
         2021,
         "beauty",
         20
        ],
        [
         2021,
         "mens-fashion",
         18
        ],
        [
         2022,
         "vehicles",
         342
        ],
        [
         2022,
         "christmas",
         91
        ],
        [
         2022,
         "beauty",
         61
        ],
        [
         2022,
         "tattoos",
         45
        ],
        [
         2022,
         "mens-fashion",
         38
        ],
        [
         2022,
         "quotes",
         36
        ],
        [
         2022,
         "diy-and-crafts",
         32
        ],
        [
         2022,
         "art",
         32
        ],
        [
         2022,
         "home-decor",
         23
        ],
        [
         2022,
         "finance",
         17
        ],
        [
         2022,
         "education",
         15
        ],
        [
         2022,
         "travel",
         14
        ],
        [
         2022,
         "event-planning",
         12
        ]
       ],
       "datasetInfos": [],
       "dbfsResultPath": null,
       "isJsonSchema": true,
       "metadata": {},
       "overflow": false,
       "plotOptions": {
        "customPlotOptions": {},
        "displayType": "table",
        "pivotAggregation": null,
        "pivotColumns": null,
        "xColumns": null,
        "yColumns": null
       },
       "removedWidgets": [],
       "schema": [
        {
         "metadata": "{}",
         "name": "post_year",
         "type": "\"integer\""
        },
        {
         "metadata": "{}",
         "name": "category",
         "type": "\"string\""
        },
        {
         "metadata": "{}",
         "name": "category_count",
         "type": "\"long\""
        }
       ],
       "type": "table"
      }
     },
     "output_type": "display_data"
    }
   ],
   "source": [
    "batch_view2_part1 = spark.read.parquet(\"/tmp/parquet/frequency_of_posts_per_category_per_year\")\n",
    "display(batch_view2_part1)"
   ]
  },
  {
   "cell_type": "markdown",
   "metadata": {
    "application/vnd.databricks.v1+cell": {
     "cellMetadata": {
      "byteLimit": 2048000,
      "rowLimit": 10000
     },
     "inputWidgets": {},
     "nuid": "87398012-64ba-4854-8395-ea858e24f92a",
     "showTitle": false,
     "title": ""
    }
   },
   "source": [
    "### 2b. Most popular post category per year"
   ]
  },
  {
   "cell_type": "code",
   "execution_count": 0,
   "metadata": {
    "application/vnd.databricks.v1+cell": {
     "cellMetadata": {
      "byteLimit": 2048000,
      "rowLimit": 10000
     },
     "inputWidgets": {},
     "nuid": "2426459a-50a7-41ff-8a74-40ea467f5a77",
     "showTitle": false,
     "title": ""
    }
   },
   "outputs": [
    {
     "output_type": "display_data",
     "data": {
      "text/html": [
       "<style scoped>\n",
       "  .table-result-container {\n",
       "    max-height: 300px;\n",
       "    overflow: auto;\n",
       "  }\n",
       "  table, th, td {\n",
       "    border: 1px solid black;\n",
       "    border-collapse: collapse;\n",
       "  }\n",
       "  th, td {\n",
       "    padding: 5px;\n",
       "  }\n",
       "  th {\n",
       "    text-align: left;\n",
       "  }\n",
       "</style><div class='table-result-container'><table class='table-result'><thead style='background-color: white'><tr><th>post_year</th><th>category</th><th>category_count</th></tr></thead><tbody><tr><td>2018</td><td>beauty</td><td>551</td></tr><tr><td>2019</td><td>diy-and-crafts</td><td>445</td></tr><tr><td>2020</td><td>tattoos</td><td>602</td></tr><tr><td>2021</td><td>finance</td><td>458</td></tr><tr><td>2022</td><td>vehicles</td><td>342</td></tr></tbody></table></div>"
      ]
     },
     "metadata": {
      "application/vnd.databricks.v1+output": {
       "addedWidgets": {},
       "aggData": [],
       "aggError": "",
       "aggOverflow": false,
       "aggSchema": [],
       "aggSeriesLimitReached": false,
       "aggType": "",
       "arguments": {},
       "columnCustomDisplayInfos": {},
       "data": [
        [
         2018,
         "beauty",
         551
        ],
        [
         2019,
         "diy-and-crafts",
         445
        ],
        [
         2020,
         "tattoos",
         602
        ],
        [
         2021,
         "finance",
         458
        ],
        [
         2022,
         "vehicles",
         342
        ]
       ],
       "datasetInfos": [],
       "dbfsResultPath": null,
       "isJsonSchema": true,
       "metadata": {},
       "overflow": false,
       "plotOptions": {
        "customPlotOptions": {},
        "displayType": "table",
        "pivotAggregation": null,
        "pivotColumns": null,
        "xColumns": null,
        "yColumns": null
       },
       "removedWidgets": [],
       "schema": [
        {
         "metadata": "{}",
         "name": "post_year",
         "type": "\"integer\""
        },
        {
         "metadata": "{}",
         "name": "category",
         "type": "\"string\""
        },
        {
         "metadata": "{}",
         "name": "category_count",
         "type": "\"long\""
        }
       ],
       "type": "table"
      }
     },
     "output_type": "display_data"
    }
   ],
   "source": [
    "batch_view2_part2 = spark.read.parquet(\"/tmp/parquet/most_popular_category_per_year\")\n",
    "\n",
    "display(batch_view2_part2)"
   ]
  },
  {
   "cell_type": "markdown",
   "metadata": {
    "application/vnd.databricks.v1+cell": {
     "cellMetadata": {
      "byteLimit": 2048000,
      "rowLimit": 10000
     },
     "inputWidgets": {},
     "nuid": "1a6abd05-e0db-4114-a8a7-189a2f749403",
     "showTitle": false,
     "title": ""
    }
   },
   "source": [
    "### 3a. User with most followers per country"
   ]
  },
  {
   "cell_type": "code",
   "execution_count": 0,
   "metadata": {
    "application/vnd.databricks.v1+cell": {
     "cellMetadata": {
      "byteLimit": 2048000,
      "rowLimit": 10000
     },
     "inputWidgets": {},
     "nuid": "0c5cb6df-d578-49ba-920e-ea7631b9dd96",
     "showTitle": false,
     "title": ""
    }
   },
   "outputs": [
    {
     "output_type": "display_data",
     "data": {
      "text/html": [
       "<style scoped>\n",
       "  .table-result-container {\n",
       "    max-height: 300px;\n",
       "    overflow: auto;\n",
       "  }\n",
       "  table, th, td {\n",
       "    border: 1px solid black;\n",
       "    border-collapse: collapse;\n",
       "  }\n",
       "  th, td {\n",
       "    padding: 5px;\n",
       "  }\n",
       "  th {\n",
       "    text-align: left;\n",
       "  }\n",
       "</style><div class='table-result-container'><table class='table-result'><thead style='background-color: white'><tr><th>country</th><th>poster_name</th><th>follower_count</th></tr></thead><tbody><tr><td>null</td><td>Behance</td><td>6000000</td></tr><tr><td>Afghanistan</td><td>9GAG</td><td>3000000</td></tr><tr><td>Albania</td><td>The Minds Journal</td><td>5000000</td></tr><tr><td>Algeria</td><td>YourTango</td><td>942000</td></tr><tr><td>American Samoa</td><td>Mamas Uncut</td><td>8000000</td></tr><tr><td>Andorra</td><td>Teachers Pay Teachers</td><td>1000000</td></tr><tr><td>Angola</td><td>Tastemade</td><td>8000000</td></tr><tr><td>Anguilla</td><td>Kristen | Lifestyle, Mom Tips & Teacher Stuff Blog</td><td>92000</td></tr><tr><td>Antarctica (the territory South of 60 deg S)</td><td>Refinery29</td><td>1000000</td></tr><tr><td>Antigua and Barbuda</td><td>Country Living Magazine</td><td>1000000</td></tr><tr><td>Argentina</td><td>Cheezburger</td><td>2000000</td></tr><tr><td>Armenia</td><td>Michelle {CraftyMorning.com}</td><td>892000</td></tr><tr><td>Aruba</td><td>GQ Magazine</td><td>874000</td></tr><tr><td>Australia</td><td>Mujer de 10 </td><td>2000000</td></tr><tr><td>Austria</td><td>Diply</td><td>251000</td></tr><tr><td>Azerbaijan</td><td>Style Me Pretty</td><td>6000000</td></tr><tr><td>Bahamas</td><td>Handmade Charlotte</td><td>948000</td></tr><tr><td>Bahrain</td><td>Alea Milham | Premeditated Leftovers</td><td>332000</td></tr><tr><td>Bangladesh</td><td>Better Homes and Gardens</td><td>4000000</td></tr><tr><td>Barbados</td><td>The Creativity Exchange</td><td>410000</td></tr><tr><td>Belarus</td><td>Something Turquoise</td><td>312000</td></tr><tr><td>Belgium</td><td>The Krazy Coupon Lady</td><td>433000</td></tr><tr><td>Belize</td><td>Easy Kids Crafts & Activities | Preschool & Kindergarten Ideas</td><td>267000</td></tr><tr><td>Benin</td><td>Penny Pinchin Mom |  Budget, Get out of Debt, Save Money & More!</td><td>113000</td></tr><tr><td>Bermuda</td><td>Life on Summerhill | Home, Holiday Decor & DIY Website</td><td>46000</td></tr><tr><td>Bhutan</td><td>Esquire Magazine</td><td>130000</td></tr><tr><td>Bolivia</td><td>Kimberly West (a girl and a glue gun)</td><td>243000</td></tr><tr><td>Bosnia and Herzegovina</td><td>5-Minute Crafts Family</td><td>370000</td></tr><tr><td>Botswana</td><td>OkChicas</td><td>3000000</td></tr><tr><td>Bouvet Island (Bouvetoya)</td><td>POPSUGAR</td><td>5000000</td></tr><tr><td>Brazil</td><td>Budget with Rachel</td><td>11000</td></tr><tr><td>Brazil</td><td>Petite Suitcase | Travel Blog</td><td>11000</td></tr><tr><td>British Indian Ocean Territory (Chagos Archipelago)</td><td>Design Rulz</td><td>248000</td></tr><tr><td>British Virgin Islands</td><td>Kitchen Fun With My 3 Sons</td><td>245000</td></tr><tr><td>Brunei Darussalam</td><td>Kids Craft Room</td><td>277000</td></tr><tr><td>Bulgaria</td><td>Half Baked Harvest</td><td>912000</td></tr><tr><td>Burkina Faso</td><td>Behance</td><td>6000000</td></tr><tr><td>Burundi</td><td>Macho Moda</td><td>620000</td></tr><tr><td>Cambodia</td><td>Catch My Party</td><td>2000000</td></tr><tr><td>Cameroon</td><td>The Blonde Abroad</td><td>123000</td></tr><tr><td>Canada</td><td>Giorgenti New York</td><td>258000</td></tr><tr><td>Cape Verde</td><td>Sand and Sisal</td><td>178000</td></tr><tr><td>Cayman Islands</td><td>Our Escape Clause l Travel in Europe & Beyond</td><td>15000</td></tr><tr><td>Central African Republic</td><td>PureWow</td><td>868000</td></tr><tr><td>Chad</td><td>Glued To My Crafts</td><td>226000</td></tr><tr><td>Chile</td><td>Amber Strong - The Maker’s Map | DIY’s, Crafts & Home Decor</td><td>19000</td></tr><tr><td>China</td><td>Empowered Sustenance</td><td>127000</td></tr><tr><td>Christmas Island</td><td>Instructables</td><td>3000000</td></tr><tr><td>Cocos (Keeling) Islands</td><td>How Does She</td><td>709000</td></tr><tr><td>Colombia</td><td>Jordan Page | Fun Cheap or Free</td><td>152000</td></tr><tr><td>Comoros</td><td>Becky Mansfield - YourModernFamily </td><td>196000</td></tr><tr><td>Congo</td><td>Virginia | Fynes Designs : Home Decor, Easy DIY’s, Lifestyle</td><td>410000</td></tr><tr><td>Cook Islands</td><td>The Spring Break Family - Family Travel</td><td>1000</td></tr><tr><td>Costa Rica</td><td>Martha Stewart Living</td><td>2000000</td></tr><tr><td>Cote d'Ivoire</td><td>The Crafting Chicks</td><td>192000</td></tr><tr><td>Croatia</td><td>Live Like You Are Rich | Finances, Pregnancy, Recipes & More</td><td>134000</td></tr><tr><td>Cuba</td><td>Listotic - Easy Ideas | Fun DIY Projects | Easy Recipes | Lists</td><td>307000</td></tr><tr><td>Cyprus</td><td>Lantern Lane Designs|Home Decor|DIY Projects|DIY Home Decor</td><td>25000</td></tr><tr><td>Czech Republic</td><td>Tatertots and Jello .com</td><td>398000</td></tr><tr><td>Denmark</td><td>A Life Adjacent</td><td>36000</td></tr><tr><td>Djibouti</td><td>Instrupix | Lilly Childers</td><td>275000</td></tr><tr><td>Dominica</td><td>Monique - Living Life and Learning</td><td>67000</td></tr><tr><td>Dominican Republic</td><td>Wonder Forest</td><td>104000</td></tr><tr><td>Ecuador</td><td>LABONNI</td><td>84000</td></tr><tr><td>Egypt</td><td>Nancy / Artsy Chicks Rule®</td><td>143000</td></tr><tr><td>El Salvador</td><td>Power of Positivity</td><td>221000</td></tr><tr><td>Equatorial Guinea</td><td>Whisper Wanderlust * Travel Blog</td><td>10000</td></tr><tr><td>Eritrea</td><td>Core77</td><td>105000</td></tr><tr><td>Estonia</td><td>Decorator's Warehouse</td><td>6000</td></tr><tr><td>Ethiopia</td><td>Sarah Wahl | Crestfox</td><td>17000</td></tr><tr><td>Falkland Islands (Malvinas)</td><td>Victoria Magazine</td><td>59000</td></tr><tr><td>Faroe Islands</td><td>Veterans United Home Loans</td><td>11000</td></tr><tr><td>Fiji</td><td>Teach Create Motivate</td><td>41000</td></tr><tr><td>Finland</td><td>Amee</td><td>79000</td></tr><tr><td>France</td><td>Hello Lovely</td><td>115000</td></tr><tr><td>French Guiana</td><td>Sweet Red Poppy Free Sewing Patterns, Cut Files & Craft Tutorials</td><td>241000</td></tr><tr><td>French Polynesia</td><td>The Printable Princess</td><td>52000</td></tr><tr><td>French Southern Territories</td><td>Mary at Home is Where the Boat Is</td><td>59000</td></tr><tr><td>Gabon</td><td>Angela Watson's Truth for Teachers</td><td>88000</td></tr><tr><td>Georgia</td><td>Susie Allison | Busy Toddler</td><td>203000</td></tr><tr><td>Germany</td><td>Middle Class Dad</td><td>10000</td></tr><tr><td>Ghana</td><td>jennifer</td><td>191</td></tr><tr><td>Gibraltar</td><td>TheSuperBOO!</td><td>89000</td></tr><tr><td>Greece</td><td>Thirty Handmade Days</td><td>397000</td></tr><tr><td>Greenland</td><td>Haiti Babi | Artisan Baby Blankets and Hats</td><td>270</td></tr><tr><td>Grenada</td><td>The Mighty</td><td>185000</td></tr><tr><td>Guadeloupe</td><td>Jess Abbott | The Sewing Rabbit</td><td>123000</td></tr><tr><td>Guam</td><td>Amanda Green Bottoms @ kevinandamanda.com</td><td>219000</td></tr><tr><td>Guatemala</td><td>Menucha - Moms and Crafters</td><td>85000</td></tr><tr><td>Guernsey</td><td>TattooMagz</td><td>32000</td></tr><tr><td>Guinea</td><td>Cars Zone</td><td>134000</td></tr><tr><td>Guinea-Bissau</td><td>The Inspiration Edit - Best Instant Pot Recipes And Kids Crafts</td><td>56000</td></tr><tr><td>Guyana</td><td>Sarah Martin</td><td>394</td></tr><tr><td>Haiti</td><td>Fres Houz</td><td>100000</td></tr><tr><td>Heard Island and McDonald Islands</td><td>Real Men Real Style</td><td>487000</td></tr><tr><td>Holy See (Vatican City State)</td><td>Mich Cam</td><td>831</td></tr><tr><td>Honduras</td><td>Michellé Groenewald Da Silva</td><td>663</td></tr><tr><td>Hong Kong</td><td>Miranda Schroeder // Thoughtfully Thrifted</td><td>14000</td></tr><tr><td>Hungary</td><td>BalsaCircle</td><td>2000</td></tr><tr><td>Iceland</td><td>Atuflower</td><td>5000</td></tr><tr><td>India</td><td>Happiness is Homemade | Crafts, Printables, Party Ideas, & More!</td><td>167000</td></tr><tr><td>Indonesia</td><td>Lifehacker</td><td>141000</td></tr><tr><td>Iran</td><td>Yourwillbearwitness</td><td>33000</td></tr><tr><td>Ireland</td><td>Seeking Lavender Lane</td><td>49000</td></tr><tr><td>Isle of Man</td><td>Abbotts At Home</td><td>52000</td></tr><tr><td>Israel</td><td>LISA MASLYK / VOICE OVER TALENT /ACTOR</td><td>3000</td></tr><tr><td>Italy</td><td>GirlGetGlamorous</td><td>21000</td></tr><tr><td>Jamaica</td><td>Financial Toolkit</td><td>19000</td></tr><tr><td>Japan</td><td>The Adult Man - Practical Men's Fashion & Lifestyle Advice</td><td>87000</td></tr><tr><td>Kazakhstan</td><td>Fashionsum | Nails, Tattoos, Hair, Makeup</td><td>771</td></tr><tr><td>Kenya</td><td>FOURLINE DESIGN | Home Decor & Accessories</td><td>26000</td></tr><tr><td>Kiribati</td><td>Insider</td><td>124000</td></tr><tr><td>Korea</td><td>Latest Hairstyles</td><td>627000</td></tr><tr><td>Kuwait</td><td>Green Wedding Shoes</td><td>2000000</td></tr><tr><td>Kyrgyz Republic</td><td>ADDitude Magazine</td><td>87000</td></tr><tr><td>Lao People's Democratic Republic</td><td>Cora Graaff</td><td>849</td></tr><tr><td>Latvia</td><td>Royal Fashionist</td><td>188000</td></tr><tr><td>Lebanon</td><td>Your Positive Oasis | Motivation| Inspiration| Wellness</td><td>163000</td></tr><tr><td>Lesotho</td><td>The Guardian</td><td>908000</td></tr><tr><td>Liberia</td><td>Happy Hooligans - Crafts and Activities for Kids</td><td>550000</td></tr><tr><td>Libyan Arab Jamahiriya</td><td>miss coco</td><td>157000</td></tr><tr><td>Liechtenstein</td><td>Sophie's Way</td><td>10000</td></tr><tr><td>Lithuania</td><td>The Bespoke ELA Classroom</td><td>10000</td></tr><tr><td>Luxembourg</td><td>Linda Kamp-Around The Kampfire</td><td>35000</td></tr><tr><td>Macao</td><td>Vanessa Ferran</td><td>3000</td></tr><tr><td>Macedonia</td><td>Mary</td><td>7000</td></tr><tr><td>Madagascar</td><td>MomAdvice</td><td>112000</td></tr><tr><td>Malawi</td><td>Avenly Lane | Beauty, Fashion & Travel Inspiration</td><td>14000</td></tr><tr><td>Maldives</td><td>Parents</td><td>416000</td></tr><tr><td>Mali</td><td>Mobile Home Living®</td><td>122000</td></tr><tr><td>Malta</td><td>Iowa Girl Eats</td><td>219000</td></tr><tr><td>Marshall Islands</td><td>Dashing Darlin' </td><td>13000</td></tr><tr><td>Martinique</td><td>Heart Handmade UK | Craft Room Ideas, Craft Ideas For Adults</td><td>1000000</td></tr><tr><td>Mauritania</td><td>The Literacy Nest</td><td>22000</td></tr><tr><td>Mauritius</td><td>Cool Things- Drawing Ideas , Fashion ,Beautiy and Home Decor</td><td>46000</td></tr><tr><td>Mayotte</td><td>Home with Holliday</td><td>31000</td></tr><tr><td>Mexico</td><td>Trendy Socialite</td><td>8000</td></tr><tr><td>Micronesia</td><td>Anna Kim | Cause-Based Travel + Online Coach - My Travelanthropy</td><td>1000</td></tr><tr><td>Moldova</td><td>A Blossoming Life DIY Projects + Recipes +     Natural Living</td><td>44000</td></tr><tr><td>Monaco</td><td>Artists Network</td><td>227000</td></tr><tr><td>Mongolia</td><td>ZAFUL</td><td>893000</td></tr><tr><td>Montenegro</td><td>Life Over C's</td><td>79000</td></tr><tr><td>Montserrat</td><td>Luci // Mums Make Lists - Family and mom lifestyle</td><td>20000</td></tr><tr><td>Morocco</td><td>Two Southern Sweeties | Life After 50 + Second Act Lifestyle</td><td>13000</td></tr><tr><td>Mozambique</td><td>Stylin by Aylin</td><td>83000</td></tr><tr><td>Namibia</td><td>Snappy Gourmet</td><td>168000</td></tr><tr><td>Nauru</td><td>The Intrepid Guide | Language Learning for Travel</td><td>45000</td></tr><tr><td>Netherlands</td><td>Homes To Love AU</td><td>247000</td></tr><tr><td>Netherlands Antilles</td><td>Sweet T Makes Three</td><td>61000</td></tr><tr><td>New Caledonia</td><td>Au'vey Smith</td><td>377</td></tr><tr><td>New Zealand</td><td>ZENIDEES</td><td>19000</td></tr><tr><td>Nicaragua</td><td>Land Rover USA</td><td>9000</td></tr><tr><td>Niger</td><td>The Edvocate</td><td>4000</td></tr><tr><td>Nigeria</td><td>eyelashdance</td><td>164</td></tr><tr><td>Niue</td><td>Michelle | Brown Eyed Baker</td><td>271000</td></tr><tr><td>Norfolk Island</td><td>Lifestyle DIYW \"Live Life & Do IT Your Way\"</td><td>6000</td></tr><tr><td>Norway</td><td>DailyDose</td><td>189</td></tr><tr><td>Oman</td><td>Kennedy Taylor</td><td>777</td></tr><tr><td>Palestinian Territory</td><td>Onedio.com</td><td>561000</td></tr><tr><td>Panama</td><td>Alanna | Periodic Adventures</td><td>1000</td></tr><tr><td>Papua New Guinea</td><td>William Nowell</td><td>5000</td></tr><tr><td>Paraguay</td><td>Michal McCamman</td><td>392</td></tr><tr><td>Peru</td><td>Books and Bao | Travel, Culture, Books</td><td>4000</td></tr><tr><td>Philippines</td><td>ForYou</td><td>2000</td></tr><tr><td>Pitcairn Islands</td><td>Marla Meridith</td><td>671000</td></tr><tr><td>Poland</td><td>BEIMER</td><td>265</td></tr><tr><td>Portugal</td><td>Lindsey Blogs</td><td>29000</td></tr><tr><td>Puerto Rico</td><td>Book More Brides</td><td>1000</td></tr><tr><td>Qatar</td><td>Hudson Farmhouse</td><td>45000</td></tr><tr><td>Romania</td><td>Soberbadassery | Your Free Online Guide To Sober Living </td><td>9000</td></tr><tr><td>Rwanda</td><td>Traveling Chic</td><td>6000</td></tr><tr><td>Saint Barthelemy</td><td>Alexandria Franko</td><td>517</td></tr><tr><td>Saint Helena</td><td>Book Riot</td><td>154000</td></tr><tr><td>Saint Kitts and Nevis</td><td>vintagetopia</td><td>171000</td></tr><tr><td>Saint Martin</td><td>Inredningsvis | Inredning inspiration Interior inspiration</td><td>9000</td></tr><tr><td>Saint Martin</td><td>Montgo Farmhouse</td><td>9000</td></tr><tr><td>Saint Pierre and Miquelon</td><td>Ebbert Barnes</td><td>323</td></tr><tr><td>Saint Vincent and the Grenadines</td><td>CabreraE</td><td>121</td></tr><tr><td>Samoa</td><td>Coley Kuyper Art</td><td>3000</td></tr><tr><td>Sao Tome and Principe</td><td>kayyla.april</td><td>2000</td></tr><tr><td>Saudi Arabia</td><td>Jay Anna Fuentes</td><td>332</td></tr><tr><td>Serbia</td><td>VEM Designs</td><td>78</td></tr><tr><td>Seychelles</td><td>ALL FOR WOMAN</td><td>21000</td></tr><tr><td>Singapore</td><td>Erin Waters | Elementary Education Activities & Resources</td><td>3000</td></tr><tr><td>Singapore</td><td>CHRISTIAN CHÊNE</td><td>3000</td></tr><tr><td>Slovakia (Slovak Republic)</td><td>CollectorCarAds.com</td><td>11000</td></tr><tr><td>Slovenia</td><td>Vsnicholls</td><td>746</td></tr><tr><td>Solomon Islands</td><td>Upcyclist</td><td>7000</td></tr><tr><td>Somalia</td><td>Balloons_worldwides</td><td>118000</td></tr><tr><td>South Africa</td><td>Sophie Watters</td><td>3000</td></tr><tr><td>South Georgia and the South Sandwich Islands</td><td>Classic Nation</td><td>75000</td></tr><tr><td>Sudan</td><td>Literacy and Math Ideas</td><td>63000</td></tr><tr><td>Svalbard & Jan Mayen Islands</td><td>Merissa (Little House Living) | Simple Living + Frugal Living</td><td>152000</td></tr><tr><td>Swaziland</td><td>Laidback Trip</td><td>3000</td></tr><tr><td>Sweden</td><td>My Bored Toddler</td><td>58000</td></tr><tr><td>Switzerland</td><td>Kelley Rosney</td><td>45</td></tr><tr><td>Tajikistan</td><td>Our Passion for Travel | Travel blog</td><td>2000</td></tr><tr><td>Tanzania</td><td>mj</td><td>26</td></tr><tr><td>Togo</td><td>debra</td><td>4000</td></tr><tr><td>Tokelau</td><td>Budget Savvy Diva</td><td>384000</td></tr><tr><td>Tonga</td><td>Grecia Perales</td><td>0</td></tr><tr><td>Trinidad and Tobago</td><td>Syndi Mulcahy</td><td>254</td></tr><tr><td>Tunisia</td><td>El blog amarillo</td><td>66000</td></tr><tr><td>Turkey</td><td>Ashley Hewell | The Frugal Ginger | Frugal Living + Personal Finance + Money Saving Tips</td><td>21000</td></tr><tr><td>Turkmenistan</td><td>Dionne ❤️ Home & Life Organized</td><td>7000</td></tr><tr><td>Turks and Caicos Islands</td><td>Let's Eat Cake</td><td>19000</td></tr><tr><td>Tuvalu</td><td>Addymae Rodi</td><td>41</td></tr><tr><td>Uganda</td><td>Inspired by Charm</td><td>3000000</td></tr><tr><td>United States Virgin Islands</td><td>Ugly Duckling House | DIY, Home, Woodworking, Crafts & Recipes</td><td>4000000</td></tr><tr><td>United States of America</td><td>Evolution of Style</td><td>47000</td></tr><tr><td>Venezuela</td><td>My Poppet - A Craft, Travel & Food Blog for Colourful Living</td><td>100000</td></tr><tr><td>Vietnam</td><td>Leanne | Midlife Blogger at www.crestingthehill.com.au</td><td>15000</td></tr><tr><td>Wallis and Futuna</td><td>Organize Ways</td><td>2000</td></tr><tr><td>Yemen</td><td>T I F F A N Y</td><td>4000</td></tr></tbody></table></div>"
      ]
     },
     "metadata": {
      "application/vnd.databricks.v1+output": {
       "addedWidgets": {},
       "aggData": [],
       "aggError": "",
       "aggOverflow": false,
       "aggSchema": [],
       "aggSeriesLimitReached": false,
       "aggType": "",
       "arguments": {},
       "columnCustomDisplayInfos": {},
       "data": [
        [
         null,
         "Behance",
         6000000
        ],
        [
         "Afghanistan",
         "9GAG",
         3000000
        ],
        [
         "Albania",
         "The Minds Journal",
         5000000
        ],
        [
         "Algeria",
         "YourTango",
         942000
        ],
        [
         "American Samoa",
         "Mamas Uncut",
         8000000
        ],
        [
         "Andorra",
         "Teachers Pay Teachers",
         1000000
        ],
        [
         "Angola",
         "Tastemade",
         8000000
        ],
        [
         "Anguilla",
         "Kristen | Lifestyle, Mom Tips & Teacher Stuff Blog",
         92000
        ],
        [
         "Antarctica (the territory South of 60 deg S)",
         "Refinery29",
         1000000
        ],
        [
         "Antigua and Barbuda",
         "Country Living Magazine",
         1000000
        ],
        [
         "Argentina",
         "Cheezburger",
         2000000
        ],
        [
         "Armenia",
         "Michelle {CraftyMorning.com}",
         892000
        ],
        [
         "Aruba",
         "GQ Magazine",
         874000
        ],
        [
         "Australia",
         "Mujer de 10 ",
         2000000
        ],
        [
         "Austria",
         "Diply",
         251000
        ],
        [
         "Azerbaijan",
         "Style Me Pretty",
         6000000
        ],
        [
         "Bahamas",
         "Handmade Charlotte",
         948000
        ],
        [
         "Bahrain",
         "Alea Milham | Premeditated Leftovers",
         332000
        ],
        [
         "Bangladesh",
         "Better Homes and Gardens",
         4000000
        ],
        [
         "Barbados",
         "The Creativity Exchange",
         410000
        ],
        [
         "Belarus",
         "Something Turquoise",
         312000
        ],
        [
         "Belgium",
         "The Krazy Coupon Lady",
         433000
        ],
        [
         "Belize",
         "Easy Kids Crafts & Activities | Preschool & Kindergarten Ideas",
         267000
        ],
        [
         "Benin",
         "Penny Pinchin Mom |  Budget, Get out of Debt, Save Money & More!",
         113000
        ],
        [
         "Bermuda",
         "Life on Summerhill | Home, Holiday Decor & DIY Website",
         46000
        ],
        [
         "Bhutan",
         "Esquire Magazine",
         130000
        ],
        [
         "Bolivia",
         "Kimberly West (a girl and a glue gun)",
         243000
        ],
        [
         "Bosnia and Herzegovina",
         "5-Minute Crafts Family",
         370000
        ],
        [
         "Botswana",
         "OkChicas",
         3000000
        ],
        [
         "Bouvet Island (Bouvetoya)",
         "POPSUGAR",
         5000000
        ],
        [
         "Brazil",
         "Budget with Rachel",
         11000
        ],
        [
         "Brazil",
         "Petite Suitcase | Travel Blog",
         11000
        ],
        [
         "British Indian Ocean Territory (Chagos Archipelago)",
         "Design Rulz",
         248000
        ],
        [
         "British Virgin Islands",
         "Kitchen Fun With My 3 Sons",
         245000
        ],
        [
         "Brunei Darussalam",
         "Kids Craft Room",
         277000
        ],
        [
         "Bulgaria",
         "Half Baked Harvest",
         912000
        ],
        [
         "Burkina Faso",
         "Behance",
         6000000
        ],
        [
         "Burundi",
         "Macho Moda",
         620000
        ],
        [
         "Cambodia",
         "Catch My Party",
         2000000
        ],
        [
         "Cameroon",
         "The Blonde Abroad",
         123000
        ],
        [
         "Canada",
         "Giorgenti New York",
         258000
        ],
        [
         "Cape Verde",
         "Sand and Sisal",
         178000
        ],
        [
         "Cayman Islands",
         "Our Escape Clause l Travel in Europe & Beyond",
         15000
        ],
        [
         "Central African Republic",
         "PureWow",
         868000
        ],
        [
         "Chad",
         "Glued To My Crafts",
         226000
        ],
        [
         "Chile",
         "Amber Strong - The Maker’s Map | DIY’s, Crafts & Home Decor",
         19000
        ],
        [
         "China",
         "Empowered Sustenance",
         127000
        ],
        [
         "Christmas Island",
         "Instructables",
         3000000
        ],
        [
         "Cocos (Keeling) Islands",
         "How Does She",
         709000
        ],
        [
         "Colombia",
         "Jordan Page | Fun Cheap or Free",
         152000
        ],
        [
         "Comoros",
         "Becky Mansfield - YourModernFamily ",
         196000
        ],
        [
         "Congo",
         "Virginia | Fynes Designs : Home Decor, Easy DIY’s, Lifestyle",
         410000
        ],
        [
         "Cook Islands",
         "The Spring Break Family - Family Travel",
         1000
        ],
        [
         "Costa Rica",
         "Martha Stewart Living",
         2000000
        ],
        [
         "Cote d'Ivoire",
         "The Crafting Chicks",
         192000
        ],
        [
         "Croatia",
         "Live Like You Are Rich | Finances, Pregnancy, Recipes & More",
         134000
        ],
        [
         "Cuba",
         "Listotic - Easy Ideas | Fun DIY Projects | Easy Recipes | Lists",
         307000
        ],
        [
         "Cyprus",
         "Lantern Lane Designs|Home Decor|DIY Projects|DIY Home Decor",
         25000
        ],
        [
         "Czech Republic",
         "Tatertots and Jello .com",
         398000
        ],
        [
         "Denmark",
         "A Life Adjacent",
         36000
        ],
        [
         "Djibouti",
         "Instrupix | Lilly Childers",
         275000
        ],
        [
         "Dominica",
         "Monique - Living Life and Learning",
         67000
        ],
        [
         "Dominican Republic",
         "Wonder Forest",
         104000
        ],
        [
         "Ecuador",
         "LABONNI",
         84000
        ],
        [
         "Egypt",
         "Nancy / Artsy Chicks Rule®",
         143000
        ],
        [
         "El Salvador",
         "Power of Positivity",
         221000
        ],
        [
         "Equatorial Guinea",
         "Whisper Wanderlust * Travel Blog",
         10000
        ],
        [
         "Eritrea",
         "Core77",
         105000
        ],
        [
         "Estonia",
         "Decorator's Warehouse",
         6000
        ],
        [
         "Ethiopia",
         "Sarah Wahl | Crestfox",
         17000
        ],
        [
         "Falkland Islands (Malvinas)",
         "Victoria Magazine",
         59000
        ],
        [
         "Faroe Islands",
         "Veterans United Home Loans",
         11000
        ],
        [
         "Fiji",
         "Teach Create Motivate",
         41000
        ],
        [
         "Finland",
         "Amee",
         79000
        ],
        [
         "France",
         "Hello Lovely",
         115000
        ],
        [
         "French Guiana",
         "Sweet Red Poppy Free Sewing Patterns, Cut Files & Craft Tutorials",
         241000
        ],
        [
         "French Polynesia",
         "The Printable Princess",
         52000
        ],
        [
         "French Southern Territories",
         "Mary at Home is Where the Boat Is",
         59000
        ],
        [
         "Gabon",
         "Angela Watson's Truth for Teachers",
         88000
        ],
        [
         "Georgia",
         "Susie Allison | Busy Toddler",
         203000
        ],
        [
         "Germany",
         "Middle Class Dad",
         10000
        ],
        [
         "Ghana",
         "jennifer",
         191
        ],
        [
         "Gibraltar",
         "TheSuperBOO!",
         89000
        ],
        [
         "Greece",
         "Thirty Handmade Days",
         397000
        ],
        [
         "Greenland",
         "Haiti Babi | Artisan Baby Blankets and Hats",
         270
        ],
        [
         "Grenada",
         "The Mighty",
         185000
        ],
        [
         "Guadeloupe",
         "Jess Abbott | The Sewing Rabbit",
         123000
        ],
        [
         "Guam",
         "Amanda Green Bottoms @ kevinandamanda.com",
         219000
        ],
        [
         "Guatemala",
         "Menucha - Moms and Crafters",
         85000
        ],
        [
         "Guernsey",
         "TattooMagz",
         32000
        ],
        [
         "Guinea",
         "Cars Zone",
         134000
        ],
        [
         "Guinea-Bissau",
         "The Inspiration Edit - Best Instant Pot Recipes And Kids Crafts",
         56000
        ],
        [
         "Guyana",
         "Sarah Martin",
         394
        ],
        [
         "Haiti",
         "Fres Houz",
         100000
        ],
        [
         "Heard Island and McDonald Islands",
         "Real Men Real Style",
         487000
        ],
        [
         "Holy See (Vatican City State)",
         "Mich Cam",
         831
        ],
        [
         "Honduras",
         "Michellé Groenewald Da Silva",
         663
        ],
        [
         "Hong Kong",
         "Miranda Schroeder // Thoughtfully Thrifted",
         14000
        ],
        [
         "Hungary",
         "BalsaCircle",
         2000
        ],
        [
         "Iceland",
         "Atuflower",
         5000
        ],
        [
         "India",
         "Happiness is Homemade | Crafts, Printables, Party Ideas, & More!",
         167000
        ],
        [
         "Indonesia",
         "Lifehacker",
         141000
        ],
        [
         "Iran",
         "Yourwillbearwitness",
         33000
        ],
        [
         "Ireland",
         "Seeking Lavender Lane",
         49000
        ],
        [
         "Isle of Man",
         "Abbotts At Home",
         52000
        ],
        [
         "Israel",
         "LISA MASLYK / VOICE OVER TALENT /ACTOR",
         3000
        ],
        [
         "Italy",
         "GirlGetGlamorous",
         21000
        ],
        [
         "Jamaica",
         "Financial Toolkit",
         19000
        ],
        [
         "Japan",
         "The Adult Man - Practical Men's Fashion & Lifestyle Advice",
         87000
        ],
        [
         "Kazakhstan",
         "Fashionsum | Nails, Tattoos, Hair, Makeup",
         771
        ],
        [
         "Kenya",
         "FOURLINE DESIGN | Home Decor & Accessories",
         26000
        ],
        [
         "Kiribati",
         "Insider",
         124000
        ],
        [
         "Korea",
         "Latest Hairstyles",
         627000
        ],
        [
         "Kuwait",
         "Green Wedding Shoes",
         2000000
        ],
        [
         "Kyrgyz Republic",
         "ADDitude Magazine",
         87000
        ],
        [
         "Lao People's Democratic Republic",
         "Cora Graaff",
         849
        ],
        [
         "Latvia",
         "Royal Fashionist",
         188000
        ],
        [
         "Lebanon",
         "Your Positive Oasis | Motivation| Inspiration| Wellness",
         163000
        ],
        [
         "Lesotho",
         "The Guardian",
         908000
        ],
        [
         "Liberia",
         "Happy Hooligans - Crafts and Activities for Kids",
         550000
        ],
        [
         "Libyan Arab Jamahiriya",
         "miss coco",
         157000
        ],
        [
         "Liechtenstein",
         "Sophie's Way",
         10000
        ],
        [
         "Lithuania",
         "The Bespoke ELA Classroom",
         10000
        ],
        [
         "Luxembourg",
         "Linda Kamp-Around The Kampfire",
         35000
        ],
        [
         "Macao",
         "Vanessa Ferran",
         3000
        ],
        [
         "Macedonia",
         "Mary",
         7000
        ],
        [
         "Madagascar",
         "MomAdvice",
         112000
        ],
        [
         "Malawi",
         "Avenly Lane | Beauty, Fashion & Travel Inspiration",
         14000
        ],
        [
         "Maldives",
         "Parents",
         416000
        ],
        [
         "Mali",
         "Mobile Home Living®",
         122000
        ],
        [
         "Malta",
         "Iowa Girl Eats",
         219000
        ],
        [
         "Marshall Islands",
         "Dashing Darlin' ",
         13000
        ],
        [
         "Martinique",
         "Heart Handmade UK | Craft Room Ideas, Craft Ideas For Adults",
         1000000
        ],
        [
         "Mauritania",
         "The Literacy Nest",
         22000
        ],
        [
         "Mauritius",
         "Cool Things- Drawing Ideas , Fashion ,Beautiy and Home Decor",
         46000
        ],
        [
         "Mayotte",
         "Home with Holliday",
         31000
        ],
        [
         "Mexico",
         "Trendy Socialite",
         8000
        ],
        [
         "Micronesia",
         "Anna Kim | Cause-Based Travel + Online Coach - My Travelanthropy",
         1000
        ],
        [
         "Moldova",
         "A Blossoming Life DIY Projects + Recipes +     Natural Living",
         44000
        ],
        [
         "Monaco",
         "Artists Network",
         227000
        ],
        [
         "Mongolia",
         "ZAFUL",
         893000
        ],
        [
         "Montenegro",
         "Life Over C's",
         79000
        ],
        [
         "Montserrat",
         "Luci // Mums Make Lists - Family and mom lifestyle",
         20000
        ],
        [
         "Morocco",
         "Two Southern Sweeties | Life After 50 + Second Act Lifestyle",
         13000
        ],
        [
         "Mozambique",
         "Stylin by Aylin",
         83000
        ],
        [
         "Namibia",
         "Snappy Gourmet",
         168000
        ],
        [
         "Nauru",
         "The Intrepid Guide | Language Learning for Travel",
         45000
        ],
        [
         "Netherlands",
         "Homes To Love AU",
         247000
        ],
        [
         "Netherlands Antilles",
         "Sweet T Makes Three",
         61000
        ],
        [
         "New Caledonia",
         "Au'vey Smith",
         377
        ],
        [
         "New Zealand",
         "ZENIDEES",
         19000
        ],
        [
         "Nicaragua",
         "Land Rover USA",
         9000
        ],
        [
         "Niger",
         "The Edvocate",
         4000
        ],
        [
         "Nigeria",
         "eyelashdance",
         164
        ],
        [
         "Niue",
         "Michelle | Brown Eyed Baker",
         271000
        ],
        [
         "Norfolk Island",
         "Lifestyle DIYW \"Live Life & Do IT Your Way\"",
         6000
        ],
        [
         "Norway",
         "DailyDose",
         189
        ],
        [
         "Oman",
         "Kennedy Taylor",
         777
        ],
        [
         "Palestinian Territory",
         "Onedio.com",
         561000
        ],
        [
         "Panama",
         "Alanna | Periodic Adventures",
         1000
        ],
        [
         "Papua New Guinea",
         "William Nowell",
         5000
        ],
        [
         "Paraguay",
         "Michal McCamman",
         392
        ],
        [
         "Peru",
         "Books and Bao | Travel, Culture, Books",
         4000
        ],
        [
         "Philippines",
         "ForYou",
         2000
        ],
        [
         "Pitcairn Islands",
         "Marla Meridith",
         671000
        ],
        [
         "Poland",
         "BEIMER",
         265
        ],
        [
         "Portugal",
         "Lindsey Blogs",
         29000
        ],
        [
         "Puerto Rico",
         "Book More Brides",
         1000
        ],
        [
         "Qatar",
         "Hudson Farmhouse",
         45000
        ],
        [
         "Romania",
         "Soberbadassery | Your Free Online Guide To Sober Living ",
         9000
        ],
        [
         "Rwanda",
         "Traveling Chic",
         6000
        ],
        [
         "Saint Barthelemy",
         "Alexandria Franko",
         517
        ],
        [
         "Saint Helena",
         "Book Riot",
         154000
        ],
        [
         "Saint Kitts and Nevis",
         "vintagetopia",
         171000
        ],
        [
         "Saint Martin",
         "Inredningsvis | Inredning inspiration Interior inspiration",
         9000
        ],
        [
         "Saint Martin",
         "Montgo Farmhouse",
         9000
        ],
        [
         "Saint Pierre and Miquelon",
         "Ebbert Barnes",
         323
        ],
        [
         "Saint Vincent and the Grenadines",
         "CabreraE",
         121
        ],
        [
         "Samoa",
         "Coley Kuyper Art",
         3000
        ],
        [
         "Sao Tome and Principe",
         "kayyla.april",
         2000
        ],
        [
         "Saudi Arabia",
         "Jay Anna Fuentes",
         332
        ],
        [
         "Serbia",
         "VEM Designs",
         78
        ],
        [
         "Seychelles",
         "ALL FOR WOMAN",
         21000
        ],
        [
         "Singapore",
         "Erin Waters | Elementary Education Activities & Resources",
         3000
        ],
        [
         "Singapore",
         "CHRISTIAN CHÊNE",
         3000
        ],
        [
         "Slovakia (Slovak Republic)",
         "CollectorCarAds.com",
         11000
        ],
        [
         "Slovenia",
         "Vsnicholls",
         746
        ],
        [
         "Solomon Islands",
         "Upcyclist",
         7000
        ],
        [
         "Somalia",
         "Balloons_worldwides",
         118000
        ],
        [
         "South Africa",
         "Sophie Watters",
         3000
        ],
        [
         "South Georgia and the South Sandwich Islands",
         "Classic Nation",
         75000
        ],
        [
         "Sudan",
         "Literacy and Math Ideas",
         63000
        ],
        [
         "Svalbard & Jan Mayen Islands",
         "Merissa (Little House Living) | Simple Living + Frugal Living",
         152000
        ],
        [
         "Swaziland",
         "Laidback Trip",
         3000
        ],
        [
         "Sweden",
         "My Bored Toddler",
         58000
        ],
        [
         "Switzerland",
         "Kelley Rosney",
         45
        ],
        [
         "Tajikistan",
         "Our Passion for Travel | Travel blog",
         2000
        ],
        [
         "Tanzania",
         "mj",
         26
        ],
        [
         "Togo",
         "debra",
         4000
        ],
        [
         "Tokelau",
         "Budget Savvy Diva",
         384000
        ],
        [
         "Tonga",
         "Grecia Perales",
         0
        ],
        [
         "Trinidad and Tobago",
         "Syndi Mulcahy",
         254
        ],
        [
         "Tunisia",
         "El blog amarillo",
         66000
        ],
        [
         "Turkey",
         "Ashley Hewell | The Frugal Ginger | Frugal Living + Personal Finance + Money Saving Tips",
         21000
        ],
        [
         "Turkmenistan",
         "Dionne ❤️ Home & Life Organized",
         7000
        ],
        [
         "Turks and Caicos Islands",
         "Let's Eat Cake",
         19000
        ],
        [
         "Tuvalu",
         "Addymae Rodi",
         41
        ],
        [
         "Uganda",
         "Inspired by Charm",
         3000000
        ],
        [
         "United States Virgin Islands",
         "Ugly Duckling House | DIY, Home, Woodworking, Crafts & Recipes",
         4000000
        ],
        [
         "United States of America",
         "Evolution of Style",
         47000
        ],
        [
         "Venezuela",
         "My Poppet - A Craft, Travel & Food Blog for Colourful Living",
         100000
        ],
        [
         "Vietnam",
         "Leanne | Midlife Blogger at www.crestingthehill.com.au",
         15000
        ],
        [
         "Wallis and Futuna",
         "Organize Ways",
         2000
        ],
        [
         "Yemen",
         "T I F F A N Y",
         4000
        ]
       ],
       "datasetInfos": [],
       "dbfsResultPath": null,
       "isJsonSchema": true,
       "metadata": {},
       "overflow": false,
       "plotOptions": {
        "customPlotOptions": {},
        "displayType": "table",
        "pivotAggregation": null,
        "pivotColumns": null,
        "xColumns": null,
        "yColumns": null
       },
       "removedWidgets": [],
       "schema": [
        {
         "metadata": "{}",
         "name": "country",
         "type": "\"string\""
        },
        {
         "metadata": "{}",
         "name": "poster_name",
         "type": "\"string\""
        },
        {
         "metadata": "{}",
         "name": "follower_count",
         "type": "\"integer\""
        }
       ],
       "type": "table"
      }
     },
     "output_type": "display_data"
    }
   ],
   "source": [
    "batch_view3_part1 = spark.read.parquet(\"/tmp/parquet/user_with_most_followers_per_country\")\n",
    "display(batch_view3_part1)"
   ]
  },
  {
   "cell_type": "markdown",
   "metadata": {
    "application/vnd.databricks.v1+cell": {
     "cellMetadata": {
      "byteLimit": 2048000,
      "rowLimit": 10000
     },
     "inputWidgets": {},
     "nuid": "8482ba36-8e9b-4708-8042-41d9f1182ceb",
     "showTitle": false,
     "title": ""
    }
   },
   "source": [
    "### 3b. Country of user with most followers"
   ]
  },
  {
   "cell_type": "code",
   "execution_count": 0,
   "metadata": {
    "application/vnd.databricks.v1+cell": {
     "cellMetadata": {
      "byteLimit": 2048000,
      "rowLimit": 10000
     },
     "inputWidgets": {},
     "nuid": "016dcd77-84c4-415c-8863-2f724b35c139",
     "showTitle": false,
     "title": ""
    }
   },
   "outputs": [
    {
     "output_type": "display_data",
     "data": {
      "text/html": [
       "<style scoped>\n",
       "  .table-result-container {\n",
       "    max-height: 300px;\n",
       "    overflow: auto;\n",
       "  }\n",
       "  table, th, td {\n",
       "    border: 1px solid black;\n",
       "    border-collapse: collapse;\n",
       "  }\n",
       "  th, td {\n",
       "    padding: 5px;\n",
       "  }\n",
       "  th {\n",
       "    text-align: left;\n",
       "  }\n",
       "</style><div class='table-result-container'><table class='table-result'><thead style='background-color: white'><tr><th>country</th><th>follower_count</th></tr></thead><tbody><tr><td>American Samoa</td><td>8000000</td></tr><tr><td>Angola</td><td>8000000</td></tr></tbody></table></div>"
      ]
     },
     "metadata": {
      "application/vnd.databricks.v1+output": {
       "addedWidgets": {},
       "aggData": [],
       "aggError": "",
       "aggOverflow": false,
       "aggSchema": [],
       "aggSeriesLimitReached": false,
       "aggType": "",
       "arguments": {},
       "columnCustomDisplayInfos": {},
       "data": [
        [
         "American Samoa",
         8000000
        ],
        [
         "Angola",
         8000000
        ]
       ],
       "datasetInfos": [],
       "dbfsResultPath": null,
       "isJsonSchema": true,
       "metadata": {},
       "overflow": false,
       "plotOptions": {
        "customPlotOptions": {},
        "displayType": "table",
        "pivotAggregation": null,
        "pivotColumns": null,
        "xColumns": null,
        "yColumns": null
       },
       "removedWidgets": [],
       "schema": [
        {
         "metadata": "{}",
         "name": "country",
         "type": "\"string\""
        },
        {
         "metadata": "{}",
         "name": "follower_count",
         "type": "\"integer\""
        }
       ],
       "type": "table"
      }
     },
     "output_type": "display_data"
    }
   ],
   "source": [
    "batch_view3_part2 = spark.read.parquet(\"/tmp/parquet/country_of_user_with_most_followers\")\n",
    "display(batch_view3_part2)"
   ]
  },
  {
   "cell_type": "markdown",
   "metadata": {
    "application/vnd.databricks.v1+cell": {
     "cellMetadata": {
      "byteLimit": 2048000,
      "rowLimit": 10000
     },
     "inputWidgets": {},
     "nuid": "f93cc3be-261e-4f83-b4fb-f99e6246abce",
     "showTitle": false,
     "title": ""
    }
   },
   "source": [
    "### 4. Most popular category per age group"
   ]
  },
  {
   "cell_type": "code",
   "execution_count": 0,
   "metadata": {
    "application/vnd.databricks.v1+cell": {
     "cellMetadata": {
      "byteLimit": 2048000,
      "rowLimit": 10000
     },
     "inputWidgets": {},
     "nuid": "8e155262-cf9d-4d39-9203-2418ea545a2c",
     "showTitle": false,
     "title": ""
    }
   },
   "outputs": [
    {
     "output_type": "display_data",
     "data": {
      "text/html": [
       "<style scoped>\n",
       "  .table-result-container {\n",
       "    max-height: 300px;\n",
       "    overflow: auto;\n",
       "  }\n",
       "  table, th, td {\n",
       "    border: 1px solid black;\n",
       "    border-collapse: collapse;\n",
       "  }\n",
       "  th, td {\n",
       "    padding: 5px;\n",
       "  }\n",
       "  th {\n",
       "    text-align: left;\n",
       "  }\n",
       "</style><div class='table-result-container'><table class='table-result'><thead style='background-color: white'><tr><th>age_group</th><th>category</th><th>category_count</th></tr></thead><tbody><tr><td>18-24</td><td>mens-fashion</td><td>927</td></tr><tr><td>25-35</td><td>beauty</td><td>584</td></tr><tr><td>36-50</td><td>home-decor</td><td>349</td></tr><tr><td>>50</td><td>beauty</td><td>44</td></tr></tbody></table></div>"
      ]
     },
     "metadata": {
      "application/vnd.databricks.v1+output": {
       "addedWidgets": {},
       "aggData": [],
       "aggError": "",
       "aggOverflow": false,
       "aggSchema": [],
       "aggSeriesLimitReached": false,
       "aggType": "",
       "arguments": {},
       "columnCustomDisplayInfos": {},
       "data": [
        [
         "18-24",
         "mens-fashion",
         927
        ],
        [
         "25-35",
         "beauty",
         584
        ],
        [
         "36-50",
         "home-decor",
         349
        ],
        [
         ">50",
         "beauty",
         44
        ]
       ],
       "datasetInfos": [],
       "dbfsResultPath": null,
       "isJsonSchema": true,
       "metadata": {},
       "overflow": false,
       "plotOptions": {
        "customPlotOptions": {},
        "displayType": "table",
        "pivotAggregation": null,
        "pivotColumns": null,
        "xColumns": null,
        "yColumns": null
       },
       "removedWidgets": [],
       "schema": [
        {
         "metadata": "{}",
         "name": "age_group",
         "type": "\"string\""
        },
        {
         "metadata": "{}",
         "name": "category",
         "type": "\"string\""
        },
        {
         "metadata": "{}",
         "name": "category_count",
         "type": "\"long\""
        }
       ],
       "type": "table"
      }
     },
     "output_type": "display_data"
    }
   ],
   "source": [
    "batch_view4 = spark.read.parquet(\"/tmp/parquet/most_popular_category_per_age_group\")\n",
    "display(batch_view4)"
   ]
  },
  {
   "cell_type": "markdown",
   "metadata": {
    "application/vnd.databricks.v1+cell": {
     "cellMetadata": {
      "byteLimit": 2048000,
      "rowLimit": 10000
     },
     "inputWidgets": {},
     "nuid": "f07c360c-bcf5-47bb-9b06-0d120dc750af",
     "showTitle": false,
     "title": ""
    }
   },
   "source": [
    "### 5. Median follower count per age group"
   ]
  },
  {
   "cell_type": "code",
   "execution_count": 0,
   "metadata": {
    "application/vnd.databricks.v1+cell": {
     "cellMetadata": {
      "byteLimit": 2048000,
      "rowLimit": 10000
     },
     "inputWidgets": {},
     "nuid": "674263e0-ea70-4644-a857-624357613d49",
     "showTitle": false,
     "title": ""
    }
   },
   "outputs": [
    {
     "output_type": "display_data",
     "data": {
      "text/html": [
       "<style scoped>\n",
       "  .table-result-container {\n",
       "    max-height: 300px;\n",
       "    overflow: auto;\n",
       "  }\n",
       "  table, th, td {\n",
       "    border: 1px solid black;\n",
       "    border-collapse: collapse;\n",
       "  }\n",
       "  th, td {\n",
       "    padding: 5px;\n",
       "  }\n",
       "  th {\n",
       "    text-align: left;\n",
       "  }\n",
       "</style><div class='table-result-container'><table class='table-result'><thead style='background-color: white'><tr><th>age_group</th><th>median_follower_count</th></tr></thead><tbody><tr><td>18-24</td><td>92000</td></tr><tr><td>25-35</td><td>43000</td></tr><tr><td>36-50</td><td>9000</td></tr><tr><td>>50</td><td>5000</td></tr></tbody></table></div>"
      ]
     },
     "metadata": {
      "application/vnd.databricks.v1+output": {
       "addedWidgets": {},
       "aggData": [],
       "aggError": "",
       "aggOverflow": false,
       "aggSchema": [],
       "aggSeriesLimitReached": false,
       "aggType": "",
       "arguments": {},
       "columnCustomDisplayInfos": {},
       "data": [
        [
         "18-24",
         92000
        ],
        [
         "25-35",
         43000
        ],
        [
         "36-50",
         9000
        ],
        [
         ">50",
         5000
        ]
       ],
       "datasetInfos": [],
       "dbfsResultPath": null,
       "isJsonSchema": true,
       "metadata": {},
       "overflow": false,
       "plotOptions": {
        "customPlotOptions": {},
        "displayType": "table",
        "pivotAggregation": null,
        "pivotColumns": null,
        "xColumns": null,
        "yColumns": null
       },
       "removedWidgets": [],
       "schema": [
        {
         "metadata": "{}",
         "name": "age_group",
         "type": "\"string\""
        },
        {
         "metadata": "{}",
         "name": "median_follower_count",
         "type": "\"integer\""
        }
       ],
       "type": "table"
      }
     },
     "output_type": "display_data"
    }
   ],
   "source": [
    "batch_view5 = spark.read.parquet(\"/tmp/parquet/median_follower_count_per_age_group\")\n",
    "display(batch_view5)"
   ]
  },
  {
   "cell_type": "markdown",
   "metadata": {
    "application/vnd.databricks.v1+cell": {
     "cellMetadata": {
      "byteLimit": 2048000,
      "rowLimit": 10000
     },
     "inputWidgets": {},
     "nuid": "2f139d53-daef-413b-a539-5c7443bb2b92",
     "showTitle": false,
     "title": ""
    }
   },
   "source": [
    "### 6. How any users have joined between 2015 and 2020"
   ]
  },
  {
   "cell_type": "code",
   "execution_count": 0,
   "metadata": {
    "application/vnd.databricks.v1+cell": {
     "cellMetadata": {
      "byteLimit": 2048000,
      "rowLimit": 10000
     },
     "inputWidgets": {},
     "nuid": "95e0f14a-53ff-4ab4-870f-18beada07f65",
     "showTitle": false,
     "title": ""
    }
   },
   "outputs": [
    {
     "output_type": "display_data",
     "data": {
      "text/html": [
       "<style scoped>\n",
       "  .table-result-container {\n",
       "    max-height: 300px;\n",
       "    overflow: auto;\n",
       "  }\n",
       "  table, th, td {\n",
       "    border: 1px solid black;\n",
       "    border-collapse: collapse;\n",
       "  }\n",
       "  th, td {\n",
       "    padding: 5px;\n",
       "  }\n",
       "  th {\n",
       "    text-align: left;\n",
       "  }\n",
       "</style><div class='table-result-container'><table class='table-result'><thead style='background-color: white'><tr><th>joining_year</th><th>number_users_joined</th></tr></thead><tbody><tr><td>2015</td><td>451</td></tr><tr><td>2016</td><td>505</td></tr><tr><td>2017</td><td>179</td></tr></tbody></table></div>"
      ]
     },
     "metadata": {
      "application/vnd.databricks.v1+output": {
       "addedWidgets": {},
       "aggData": [],
       "aggError": "",
       "aggOverflow": false,
       "aggSchema": [],
       "aggSeriesLimitReached": false,
       "aggType": "",
       "arguments": {},
       "columnCustomDisplayInfos": {},
       "data": [
        [
         2015,
         451
        ],
        [
         2016,
         505
        ],
        [
         2017,
         179
        ]
       ],
       "datasetInfos": [],
       "dbfsResultPath": null,
       "isJsonSchema": true,
       "metadata": {},
       "overflow": false,
       "plotOptions": {
        "customPlotOptions": {},
        "displayType": "table",
        "pivotAggregation": null,
        "pivotColumns": null,
        "xColumns": null,
        "yColumns": null
       },
       "removedWidgets": [],
       "schema": [
        {
         "metadata": "{}",
         "name": "joining_year",
         "type": "\"integer\""
        },
        {
         "metadata": "{}",
         "name": "number_users_joined",
         "type": "\"long\""
        }
       ],
       "type": "table"
      }
     },
     "output_type": "display_data"
    }
   ],
   "source": [
    "batch_view6 = spark.read.parquet(\"/tmp/parquet/new_users_per_year\")\n",
    "display(batch_view6)"
   ]
  },
  {
   "cell_type": "markdown",
   "metadata": {
    "application/vnd.databricks.v1+cell": {
     "cellMetadata": {
      "byteLimit": 2048000,
      "rowLimit": 10000
     },
     "inputWidgets": {},
     "nuid": "c72f58f9-bbbb-4dec-8967-999ff3f6f5f6",
     "showTitle": false,
     "title": ""
    }
   },
   "source": [
    "### 7. Median follower count of posts by users who joined between 2015 and 2020, based on joining year"
   ]
  },
  {
   "cell_type": "code",
   "execution_count": 0,
   "metadata": {
    "application/vnd.databricks.v1+cell": {
     "cellMetadata": {
      "byteLimit": 2048000,
      "rowLimit": 10000
     },
     "inputWidgets": {},
     "nuid": "0ff17d96-feac-4265-b4d0-d3a663b8d433",
     "showTitle": false,
     "title": ""
    }
   },
   "outputs": [
    {
     "output_type": "display_data",
     "data": {
      "text/html": [
       "<style scoped>\n",
       "  .table-result-container {\n",
       "    max-height: 300px;\n",
       "    overflow: auto;\n",
       "  }\n",
       "  table, th, td {\n",
       "    border: 1px solid black;\n",
       "    border-collapse: collapse;\n",
       "  }\n",
       "  th, td {\n",
       "    padding: 5px;\n",
       "  }\n",
       "  th {\n",
       "    text-align: left;\n",
       "  }\n",
       "</style><div class='table-result-container'><table class='table-result'><thead style='background-color: white'><tr><th>joining_year</th><th>median_follower_count</th></tr></thead><tbody><tr><td>2015</td><td>92000</td></tr><tr><td>2016</td><td>21000</td></tr><tr><td>2017</td><td>7000</td></tr></tbody></table></div>"
      ]
     },
     "metadata": {
      "application/vnd.databricks.v1+output": {
       "addedWidgets": {},
       "aggData": [],
       "aggError": "",
       "aggOverflow": false,
       "aggSchema": [],
       "aggSeriesLimitReached": false,
       "aggType": "",
       "arguments": {},
       "columnCustomDisplayInfos": {},
       "data": [
        [
         2015,
         92000
        ],
        [
         2016,
         21000
        ],
        [
         2017,
         7000
        ]
       ],
       "datasetInfos": [],
       "dbfsResultPath": null,
       "isJsonSchema": true,
       "metadata": {},
       "overflow": false,
       "plotOptions": {
        "customPlotOptions": {},
        "displayType": "table",
        "pivotAggregation": null,
        "pivotColumns": null,
        "xColumns": null,
        "yColumns": null
       },
       "removedWidgets": [],
       "schema": [
        {
         "metadata": "{}",
         "name": "joining_year",
         "type": "\"integer\""
        },
        {
         "metadata": "{}",
         "name": "median_follower_count",
         "type": "\"integer\""
        }
       ],
       "type": "table"
      }
     },
     "output_type": "display_data"
    }
   ],
   "source": [
    "batch_view7 = spark.read.parquet(\"/tmp/parquet/median_follower_count_per_joining_year\")\n",
    "display(batch_view7)"
   ]
  },
  {
   "cell_type": "markdown",
   "metadata": {
    "application/vnd.databricks.v1+cell": {
     "cellMetadata": {
      "byteLimit": 2048000,
      "rowLimit": 10000
     },
     "inputWidgets": {},
     "nuid": "9d5e02a1-99fc-4821-bba4-4bd24e7e53cf",
     "showTitle": false,
     "title": ""
    }
   },
   "source": [
    "### 8. Median follower count of posts by users that have joined between 2015 and 2020, based on their joining year and the age group they are part of"
   ]
  },
  {
   "cell_type": "code",
   "execution_count": 0,
   "metadata": {
    "application/vnd.databricks.v1+cell": {
     "cellMetadata": {
      "byteLimit": 2048000,
      "rowLimit": 10000
     },
     "inputWidgets": {},
     "nuid": "6fbe0cda-de4e-4020-9717-ce27a0c70ce6",
     "showTitle": false,
     "title": ""
    }
   },
   "outputs": [
    {
     "output_type": "display_data",
     "data": {
      "text/html": [
       "<style scoped>\n",
       "  .table-result-container {\n",
       "    max-height: 300px;\n",
       "    overflow: auto;\n",
       "  }\n",
       "  table, th, td {\n",
       "    border: 1px solid black;\n",
       "    border-collapse: collapse;\n",
       "  }\n",
       "  th, td {\n",
       "    padding: 5px;\n",
       "  }\n",
       "  th {\n",
       "    text-align: left;\n",
       "  }\n",
       "</style><div class='table-result-container'><table class='table-result'><thead style='background-color: white'><tr><th>age_group</th><th>joining_year</th><th>median_follower_count</th></tr></thead><tbody><tr><td>18-24</td><td>2015</td><td>211000</td></tr><tr><td>25-35</td><td>2015</td><td>51000</td></tr><tr><td>36-50</td><td>2015</td><td>25000</td></tr><tr><td>>50</td><td>2015</td><td>196</td></tr><tr><td>18-24</td><td>2016</td><td>4000</td></tr><tr><td>25-35</td><td>2016</td><td>43000</td></tr><tr><td>36-50</td><td>2016</td><td>9000</td></tr><tr><td>>50</td><td>2016</td><td>316</td></tr><tr><td>18-24</td><td>2017</td><td>940</td></tr><tr><td>25-35</td><td>2017</td><td>79000</td></tr><tr><td>36-50</td><td>2017</td><td>6000</td></tr><tr><td>>50</td><td>2017</td><td>5000</td></tr></tbody></table></div>"
      ]
     },
     "metadata": {
      "application/vnd.databricks.v1+output": {
       "addedWidgets": {},
       "aggData": [],
       "aggError": "",
       "aggOverflow": false,
       "aggSchema": [],
       "aggSeriesLimitReached": false,
       "aggType": "",
       "arguments": {},
       "columnCustomDisplayInfos": {},
       "data": [
        [
         "18-24",
         2015,
         211000
        ],
        [
         "25-35",
         2015,
         51000
        ],
        [
         "36-50",
         2015,
         25000
        ],
        [
         ">50",
         2015,
         196
        ],
        [
         "18-24",
         2016,
         4000
        ],
        [
         "25-35",
         2016,
         43000
        ],
        [
         "36-50",
         2016,
         9000
        ],
        [
         ">50",
         2016,
         316
        ],
        [
         "18-24",
         2017,
         940
        ],
        [
         "25-35",
         2017,
         79000
        ],
        [
         "36-50",
         2017,
         6000
        ],
        [
         ">50",
         2017,
         5000
        ]
       ],
       "datasetInfos": [],
       "dbfsResultPath": null,
       "isJsonSchema": true,
       "metadata": {},
       "overflow": false,
       "plotOptions": {
        "customPlotOptions": {},
        "displayType": "table",
        "pivotAggregation": null,
        "pivotColumns": null,
        "xColumns": null,
        "yColumns": null
       },
       "removedWidgets": [],
       "schema": [
        {
         "metadata": "{}",
         "name": "age_group",
         "type": "\"string\""
        },
        {
         "metadata": "{}",
         "name": "joining_year",
         "type": "\"integer\""
        },
        {
         "metadata": "{}",
         "name": "median_follower_count",
         "type": "\"integer\""
        }
       ],
       "type": "table"
      }
     },
     "output_type": "display_data"
    }
   ],
   "source": [
    "batch_view8 = spark.read.parquet(\"/tmp/parquet/median_follower_count_per_joining_year_and_age_group\")\n",
    "display(batch_view8)"
   ]
  },
  {
   "cell_type": "markdown",
   "metadata": {
    "application/vnd.databricks.v1+cell": {
     "cellMetadata": {
      "byteLimit": 2048000,
      "rowLimit": 10000
     },
     "inputWidgets": {},
     "nuid": "80b2c766-813f-4119-a5a8-eaf575060cf9",
     "showTitle": false,
     "title": ""
    }
   },
   "source": [
    "### 9. Median follower count of posts made by users between 2015 and 2020, based on posting year and user age group"
   ]
  },
  {
   "cell_type": "code",
   "execution_count": 0,
   "metadata": {
    "application/vnd.databricks.v1+cell": {
     "cellMetadata": {
      "byteLimit": 2048000,
      "rowLimit": 10000
     },
     "inputWidgets": {},
     "nuid": "671df835-856c-4286-b7c9-06595d845a1a",
     "showTitle": false,
     "title": ""
    }
   },
   "outputs": [
    {
     "output_type": "display_data",
     "data": {
      "text/html": [
       "<style scoped>\n",
       "  .table-result-container {\n",
       "    max-height: 300px;\n",
       "    overflow: auto;\n",
       "  }\n",
       "  table, th, td {\n",
       "    border: 1px solid black;\n",
       "    border-collapse: collapse;\n",
       "  }\n",
       "  th, td {\n",
       "    padding: 5px;\n",
       "  }\n",
       "  th {\n",
       "    text-align: left;\n",
       "  }\n",
       "</style><div class='table-result-container'><table class='table-result'><thead style='background-color: white'><tr><th>age_group</th><th>post_year</th><th>median_follower_count</th></tr></thead><tbody><tr><td>18-24</td><td>2017</td><td>1000000</td></tr><tr><td>25-35</td><td>2017</td><td>42000</td></tr><tr><td>36-50</td><td>2017</td><td>72000</td></tr><tr><td>>50</td><td>2017</td><td>326000</td></tr><tr><td>18-24</td><td>2018</td><td>892000</td></tr><tr><td>25-35</td><td>2018</td><td>43000</td></tr><tr><td>36-50</td><td>2018</td><td>112</td></tr><tr><td>>50</td><td>2018</td><td>1000</td></tr><tr><td>18-24</td><td>2019</td><td>940</td></tr><tr><td>25-35</td><td>2019</td><td>192000</td></tr><tr><td>36-50</td><td>2019</td><td>25000</td></tr><tr><td>>50</td><td>2019</td><td>3000</td></tr><tr><td>18-24</td><td>2020</td><td>211000</td></tr><tr><td>25-35</td><td>2020</td><td>124000</td></tr><tr><td>36-50</td><td>2020</td><td>9000</td></tr><tr><td>>50</td><td>2020</td><td>41</td></tr></tbody></table></div>"
      ]
     },
     "metadata": {
      "application/vnd.databricks.v1+output": {
       "addedWidgets": {},
       "aggData": [],
       "aggError": "",
       "aggOverflow": false,
       "aggSchema": [],
       "aggSeriesLimitReached": false,
       "aggType": "",
       "arguments": {},
       "columnCustomDisplayInfos": {},
       "data": [
        [
         "18-24",
         2017,
         1000000
        ],
        [
         "25-35",
         2017,
         42000
        ],
        [
         "36-50",
         2017,
         72000
        ],
        [
         ">50",
         2017,
         326000
        ],
        [
         "18-24",
         2018,
         892000
        ],
        [
         "25-35",
         2018,
         43000
        ],
        [
         "36-50",
         2018,
         112
        ],
        [
         ">50",
         2018,
         1000
        ],
        [
         "18-24",
         2019,
         940
        ],
        [
         "25-35",
         2019,
         192000
        ],
        [
         "36-50",
         2019,
         25000
        ],
        [
         ">50",
         2019,
         3000
        ],
        [
         "18-24",
         2020,
         211000
        ],
        [
         "25-35",
         2020,
         124000
        ],
        [
         "36-50",
         2020,
         9000
        ],
        [
         ">50",
         2020,
         41
        ]
       ],
       "datasetInfos": [],
       "dbfsResultPath": null,
       "isJsonSchema": true,
       "metadata": {},
       "overflow": false,
       "plotOptions": {
        "customPlotOptions": {},
        "displayType": "table",
        "pivotAggregation": null,
        "pivotColumns": null,
        "xColumns": null,
        "yColumns": null
       },
       "removedWidgets": [],
       "schema": [
        {
         "metadata": "{}",
         "name": "age_group",
         "type": "\"string\""
        },
        {
         "metadata": "{}",
         "name": "post_year",
         "type": "\"integer\""
        },
        {
         "metadata": "{}",
         "name": "median_follower_count",
         "type": "\"integer\""
        }
       ],
       "type": "table"
      }
     },
     "output_type": "display_data"
    }
   ],
   "source": [
    "batch_view9 = spark.read.parquet(\"/tmp/parquet/median_follower_count_per_post_year_and_age_group\")\n",
    "display(batch_view9)"
   ]
  }
 ],
 "metadata": {
  "application/vnd.databricks.v1+notebook": {
   "dashboards": [],
   "language": "python",
   "notebookMetadata": {
    "pythonIndentUnit": 4
   },
   "notebookName": "read_latest_batch_views",
   "widgets": {}
  }
 },
 "nbformat": 4,
 "nbformat_minor": 0
}
