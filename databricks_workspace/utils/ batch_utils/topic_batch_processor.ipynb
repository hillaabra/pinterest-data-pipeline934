{
 "cells": [
  {
   "cell_type": "code",
   "execution_count": 0,
   "metadata": {
    "application/vnd.databricks.v1+cell": {
     "cellMetadata": {},
     "inputWidgets": {},
     "nuid": "18bc1832-94f8-45bc-8b02-4b79b6efb1ad",
     "showTitle": false,
     "title": ""
    }
   },
   "outputs": [],
   "source": [
    "class TopicBatchProcessor:    \n",
    "    def __init__(self, s3_connector_instance, topic_name):\n",
    "        self._topic_name = topic_name\n",
    "        self._file_location = f\"{s3_connector_instance._bucket_mount_name}/topics/{self._topic_name}/partition=0/*.json\"\n",
    "        self._extracted_batch_data = None # return to this - might want to timestamp batches depending on workflow\n",
    "        self._cleaned_batch_data = None \n",
    "    \n",
    "    def read_json_files_from_s3_bucket_to_df(self) -> None:\n",
    "        file_type = \"json\"\n",
    "        infer_schema = \"true\"\n",
    "        df = spark.read.format(file_type) \\\n",
    "                        .option(\"inferSchema\", infer_schema) \\\n",
    "                        .load(self._file_location)\n",
    "\n",
    "        self._extracted_batch_data = df\n",
    "    \n",
    "    def clean_dataframe(self, cleaning_function) -> None:\n",
    "        if self._extracted_batch_data is not None:\n",
    "            try:\n",
    "                no_duplicate_records_df = self._extracted_batch_data.distinct() # maybe not needed?\n",
    "                cleaned_df = cleaning_function(no_duplicate_records_df)\n",
    "                self._cleaned_batch_data = cleaned_df.cache()\n",
    "            except Exception as e:\n",
    "                print(f\"Error occured during cleaning of {self._topic_name} extracted data: {e}\")\n",
    "        else:\n",
    "            print(f\"Error occured during cleaning of {self._topic_name} extracted data:\\\n",
    "                    no dataframe of extracted data saved to object instance.\")     "
   ]
  }
 ],
 "metadata": {
  "application/vnd.databricks.v1+notebook": {
   "dashboards": [],
   "language": "python",
   "notebookMetadata": {
    "pythonIndentUnit": 4
   },
   "notebookName": "topic_batch_processor",
   "widgets": {}
  }
 },
 "nbformat": 4,
 "nbformat_minor": 0
}
