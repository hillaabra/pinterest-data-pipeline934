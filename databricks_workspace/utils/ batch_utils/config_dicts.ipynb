{
 "cells": [
  {
   "cell_type": "code",
   "execution_count": 0,
   "metadata": {
    "application/vnd.databricks.v1+cell": {
     "cellMetadata": {},
     "inputWidgets": {},
     "nuid": "0ac8f78a-4aec-42ac-bdd4-3df5a69c9268",
     "showTitle": false,
     "title": ""
    }
   },
   "outputs": [],
   "source": [
    "# for connection to the S3 bucket\n",
    "s3_config_dict = {\n",
    "    \"aws_authentication_csv_filepath\": \"/FileStore/tables/authentication_credentials.csv\",\n",
    "    \"s3_bucket_name\": \"user-0a0223c10829-bucket\",\n",
    "    \"target_bucket_mount_name\": \"/mnt/user_0a0223c10829_s3_bucket\"\n",
    "}\n",
    "\n",
    "topic_names_dict = {\n",
    "    # values match naming of Kafka topics\n",
    "    \"geolocation\": \"0a0223c10829.geo\",\n",
    "    \"pinterest_posts\": \"0a0223c10829.pin\",\n",
    "    \"users\": \"0a0223c10829.user\"}"
   ]
  }
 ],
 "metadata": {
  "application/vnd.databricks.v1+notebook": {
   "dashboards": [],
   "language": "python",
   "notebookMetadata": {
    "pythonIndentUnit": 4
   },
   "notebookName": "config_dicts",
   "widgets": {}
  }
 },
 "nbformat": 4,
 "nbformat_minor": 0
}
