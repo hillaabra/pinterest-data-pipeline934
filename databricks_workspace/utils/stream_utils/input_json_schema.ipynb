{
 "cells": [
  {
   "cell_type": "code",
   "execution_count": null,
   "metadata": {
    "application/vnd.databricks.v1+cell": {
     "cellMetadata": {},
     "inputWidgets": {},
     "nuid": "456bb3d1-250a-4844-b022-2ce4a98b3071",
     "showTitle": false,
     "title": ""
    }
   },
   "outputs": [],
   "source": [
    "# this script contains the input json schemas for the stream processing pipeline\n",
    "# defined the schemas to follow expected default behaviour in order to be able to\n",
    "# reuse the cleaning methods defined for the batch processing pipeline"
   ]
  },
  {
   "cell_type": "code",
   "execution_count": null,
   "metadata": {
    "application/vnd.databricks.v1+cell": {
     "cellMetadata": {},
     "inputWidgets": {},
     "nuid": "9ddf2fe5-dccb-464b-8ddd-11d13c470acd",
     "showTitle": false,
     "title": ""
    }
   },
   "outputs": [],
   "source": [
    "from pyspark.sql.types import StructType, StructField, StringType, IntegerType, DoubleType, LongType"
   ]
  },
  {
   "cell_type": "code",
   "execution_count": null,
   "metadata": {
    "application/vnd.databricks.v1+cell": {
     "cellMetadata": {},
     "inputWidgets": {},
     "nuid": "a6c6a3dc-7b28-4d78-9934-31c47d8ce052",
     "showTitle": false,
     "title": ""
    }
   },
   "outputs": [],
   "source": [
    "# input JSON schema for the Pinterest posts data stream\n",
    "pin_schema = StructType([\n",
    "    StructField(\"index\", IntegerType(), True),\n",
    "    StructField(\"unique_id\", StringType(), True),\n",
    "    StructField(\"title\", StringType(), True),\n",
    "    StructField(\"description\", StringType(), True),\n",
    "    StructField(\"follower_count\", IntegerType(), True),\n",
    "    StructField(\"poster_name\", StringType(), True),\n",
    "    StructField(\"tag_list\", StringType(), True),\n",
    "    StructField(\"is_image_or_video\", StringType(), True),\n",
    "    StructField(\"image_src\", StringType(), True),\n",
    "    StructField(\"save_location\", StringType(), True),\n",
    "    StructField(\"category\", StringType(), True)\n",
    "])"
   ]
  },
  {
   "cell_type": "code",
   "execution_count": null,
   "metadata": {
    "application/vnd.databricks.v1+cell": {
     "cellMetadata": {},
     "inputWidgets": {},
     "nuid": "18cf30fd-d03d-4e3a-88bb-10e736af074e",
     "showTitle": false,
     "title": ""
    }
   },
   "outputs": [],
   "source": [
    "# input JSON schema for the geolocation data stream\n",
    "geo_schema = StructType([\n",
    "    StructField(\"ind\", LongType(), True),\n",
    "    StructField(\"longitude\", StringType(), True),\n",
    "    StructField(\"latitude\", StringType(), True),\n",
    "    StructField(\"timestamp\", StringType(), True),\n",
    "    StructField(\"country\", StringType(), True)\n",
    "])"
   ]
  },
  {
   "cell_type": "code",
   "execution_count": null,
   "metadata": {
    "application/vnd.databricks.v1+cell": {
     "cellMetadata": {},
     "inputWidgets": {},
     "nuid": "d96cb8eb-26c7-41c9-ad51-2f9a119d4302",
     "showTitle": false,
     "title": ""
    }
   },
   "outputs": [],
   "source": [
    "# input JSON schema for the user data stream\n",
    "user_schema = StructType([\n",
    "    StructField(\"ind\", LongType(), True),\n",
    "    StructField(\"first_name\", StringType(), True),\n",
    "    StructField(\"last_name\", StringType(), True),\n",
    "    StructField(\"date_joined\", StringType(), True),\n",
    "    StructField(\"age\", IntegerType(), True)\n",
    "])"
   ]
  }
 ],
 "metadata": {
  "application/vnd.databricks.v1+notebook": {
   "dashboards": [],
   "language": "python",
   "notebookMetadata": {
    "pythonIndentUnit": 4
   },
   "notebookName": "input_json_schema",
   "widgets": {}
  },
  "language_info": {
   "name": "python"
  }
 },
 "nbformat": 4,
 "nbformat_minor": 0
}
