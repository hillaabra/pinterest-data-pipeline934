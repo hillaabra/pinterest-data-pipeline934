{
 "cells": [
  {
   "cell_type": "markdown",
   "metadata": {
    "application/vnd.databricks.v1+cell": {
     "cellMetadata": {},
     "inputWidgets": {},
     "nuid": "37d5a3af-54ad-4ef7-9d8f-95abca94161b",
     "showTitle": false,
     "title": ""
    }
   },
   "source": [
    "### 1. Find the most popular category in each country\n",
    "Find the most popular Pinterest category people post to based on their country.\n",
    "\n",
    "Your query should return a DataFrame that contains the following columns:\n",
    "\n",
    "- country\n",
    "- category\n",
    "- category_count, a new column containing the desired query output"
   ]
  },
  {
   "cell_type": "code",
   "execution_count": null,
   "metadata": {
    "application/vnd.databricks.v1+cell": {
     "cellMetadata": {
      "byteLimit": 2048000,
      "rowLimit": 10000
     },
     "inputWidgets": {},
     "nuid": "4e641a6c-8d0e-4f3b-a79a-28df651b7679",
     "showTitle": false,
     "title": ""
    }
   },
   "outputs": [],
   "source": [
    "sql_df1 = spark.sql(\"\"\"\n",
    "                WITH category_totals AS (\n",
    "                    SELECT\n",
    "                        country,\n",
    "                        category,\n",
    "                        COUNT(category) as category_count\n",
    "                    FROM\n",
    "                        hilla_pin\n",
    "                    INNER JOIN\n",
    "                        hilla_geo ON hilla_pin.ind = hilla_geo.ind\n",
    "                    GROUP BY\n",
    "                        country,\n",
    "                        category\n",
    "                ), category_ranks AS (\n",
    "                    SELECT\n",
    "                        country,\n",
    "                        category,\n",
    "                        category_count,\n",
    "                        RANK() OVER (\n",
    "                            PARTITION BY country\n",
    "                            ORDER BY category_count DESC\n",
    "                        ) as category_rank\n",
    "                    FROM category_totals\n",
    "                )\n",
    "                SELECT\n",
    "                    country,\n",
    "                    category,\n",
    "                    category_count\n",
    "                FROM\n",
    "                    category_ranks\n",
    "                WHERE\n",
    "                    category_rank = 1\n",
    "                ORDER BY country;\n",
    "                        \"\"\")\n",
    "\n",
    "sql_df1.write.mode(\"overwrite\").parquet(\"/tmp/parquet/most_popular_category_per_country\")"
   ]
  },
  {
   "cell_type": "markdown",
   "metadata": {
    "application/vnd.databricks.v1+cell": {
     "cellMetadata": {},
     "inputWidgets": {},
     "nuid": "c447bac8-498a-4290-b272-8ec5857e28ac",
     "showTitle": false,
     "title": ""
    }
   },
   "source": [
    "### 2. Find which was the most popular category each year\n",
    "\n",
    "Find how many posts each category had between 2018 and 2022.\n",
    "\n",
    "Your query should return a DataFrame that contains the following columns:\n",
    "- post_year, a new column that contains only the year from the timestamp column\n",
    "- category\n",
    "- category_count, a new column containing the desired query output"
   ]
  },
  {
   "cell_type": "code",
   "execution_count": null,
   "metadata": {
    "application/vnd.databricks.v1+cell": {
     "cellMetadata": {},
     "inputWidgets": {},
     "nuid": "33b626e0-dc49-441d-8cba-6a0fa8ad35c1",
     "showTitle": false,
     "title": ""
    }
   },
   "outputs": [],
   "source": [
    "sql_df2 = spark.sql(\"\"\"\n",
    "            FROM (\n",
    "                SELECT\n",
    "                    date_part('year', timestamp) as post_year,\n",
    "                    category,\n",
    "                    COUNT(category) as category_count\n",
    "                FROM\n",
    "                    hilla_pin\n",
    "                INNER JOIN\n",
    "                    hilla_geo ON hilla_pin.ind = hilla_geo.ind\n",
    "                GROUP BY\n",
    "                    post_year,\n",
    "                    category\n",
    "            )\n",
    "            SELECT\n",
    "                post_year,\n",
    "                category,\n",
    "                category_count\n",
    "            WHERE\n",
    "                post_year BETWEEN 2018 and 2022\n",
    "            ORDER BY\n",
    "                post_year,\n",
    "                category_count DESC;\n",
    "                        \"\"\")\n",
    "sql_df2.write.mode(\"overwrite\").parquet(\"/tmp/parquet/most_popular_category_per_year\")"
   ]
  },
  {
   "cell_type": "markdown",
   "metadata": {
    "application/vnd.databricks.v1+cell": {
     "cellMetadata": {},
     "inputWidgets": {},
     "nuid": "8396c88b-504d-496b-a3ca-10d8195b4875",
     "showTitle": false,
     "title": ""
    }
   },
   "source": [
    "### 3. Find the user with most followers in each country\n",
    "Step 1: For each country find the user with the most followers.\n",
    "\n",
    "Your query should return a DataFrame that contains the following columns:\n",
    "\n",
    "- country\n",
    "- poster_name\n",
    "- follower_count\n",
    "\n",
    "Step 2: Based on the above query, find the country with the user with most followers.\n",
    "\n",
    "Your query should return a DataFrame that contains the following columns:\n",
    "\n",
    "- country\n",
    "- follower_count\n",
    "This DataFrame should have only one entry"
   ]
  },
  {
   "cell_type": "code",
   "execution_count": null,
   "metadata": {
    "application/vnd.databricks.v1+cell": {
     "cellMetadata": {},
     "inputWidgets": {},
     "nuid": "72c5894e-900a-487f-8fdc-59c3bbe16613",
     "showTitle": false,
     "title": ""
    }
   },
   "outputs": [],
   "source": [
    "sql_df3_1 = spark.sql(\"\"\"\n",
    "                WITH all_posters AS (\n",
    "                    SELECT\n",
    "                        country,\n",
    "                        poster_name,\n",
    "                        follower_count\n",
    "                    FROM\n",
    "                        hilla_pin\n",
    "                    LEFT JOIN\n",
    "                        hilla_geo ON hilla_pin.ind = hilla_geo.ind\n",
    "                ), follower_counts_ranked AS (\n",
    "                    SELECT\n",
    "                        country,\n",
    "                        poster_name,\n",
    "                        follower_count,\n",
    "                        RANK() OVER (\n",
    "                            PARTITION BY COUNTRY\n",
    "                            ORDER BY follower_count DESC\n",
    "                        ) follower_count_ranking\n",
    "                    FROM all_posters\n",
    "                )\n",
    "                SELECT DISTINCT\n",
    "                    country,\n",
    "                    poster_name,\n",
    "                    follower_count\n",
    "                FROM\n",
    "                    follower_counts_ranked\n",
    "                WHERE\n",
    "                    follower_count_ranking = 1\n",
    "                ORDER BY\n",
    "                    country;\n",
    "                        \"\"\")\n",
    "\n",
    "sql_df3_1.write.mode(\"overwrite\").parquet(\"/tmp/parquet/user_with_most_followers_per_country\")"
   ]
  },
  {
   "cell_type": "code",
   "execution_count": null,
   "metadata": {
    "application/vnd.databricks.v1+cell": {
     "cellMetadata": {},
     "inputWidgets": {},
     "nuid": "dd105da6-ec5e-4e3c-9574-8c02bc553eba",
     "showTitle": false,
     "title": ""
    }
   },
   "outputs": [],
   "source": [
    "sql_df3_1.createOrReplaceTempView(\"hilla_sql_df3_1\")\n",
    "\n",
    "sql_df3_2 = spark.sql(\"\"\"\n",
    "                SELECT\n",
    "                    country,\n",
    "                    follower_count\n",
    "                FROM (\n",
    "                    SELECT\n",
    "                        country,\n",
    "                        follower_count,\n",
    "                        RANK() OVER (\n",
    "                            ORDER BY follower_count DESC\n",
    "                        ) follower_count_ranking\n",
    "                    FROM\n",
    "                        hilla_sql_df3_1\n",
    "                    )\n",
    "                WHERE follower_count_ranking = 1;\n",
    "                    \"\"\")\n",
    "sql_df3_2.write.mode(\"overwrite\").parquet(\"/tmp/parquet/country_of_user_with_most_followers\")"
   ]
  },
  {
   "cell_type": "markdown",
   "metadata": {
    "application/vnd.databricks.v1+cell": {
     "cellMetadata": {},
     "inputWidgets": {},
     "nuid": "29e4d7f7-b3e4-483d-aed2-48eef2d272c2",
     "showTitle": false,
     "title": ""
    }
   },
   "source": [
    "### 4. Find the most popular category for different age groups.\n",
    "\n",
    "What is the most popular category people post to based on the following age groups:\n",
    "\n",
    "- 18-24\n",
    "- 25-35\n",
    "- 36-50\n",
    "- +50\n",
    "\n",
    "Your query should return a DataFrame that contains the following columns:\n",
    "\n",
    "- age_group, a new column based on the original age column\n",
    "- category\n",
    "- category_count, a new column containing the desired query output"
   ]
  },
  {
   "cell_type": "code",
   "execution_count": null,
   "metadata": {
    "application/vnd.databricks.v1+cell": {
     "cellMetadata": {},
     "inputWidgets": {},
     "nuid": "fe114642-a1aa-4a4f-a4e2-68b8b4b60bc3",
     "showTitle": false,
     "title": ""
    }
   },
   "outputs": [],
   "source": [
    "sql_df4 = spark.sql(\"\"\"\n",
    "            WITH category_counts AS (\n",
    "                SELECT\n",
    "                    category,\n",
    "                    COUNT(category) as category_count,\n",
    "                    CASE\n",
    "                        WHEN age > 50 THEN '50+'\n",
    "                        WHEN age > 35 THEN '36-50'\n",
    "                        WHEN age > 25 THEN '25-35'\n",
    "                        WHEN age > 17 THEN '18-24'\n",
    "                        ELSE 'invalid age' \n",
    "                    END AS age_group\n",
    "                FROM\n",
    "                    hilla_pin\n",
    "                LEFT JOIN\n",
    "                    hilla_user ON hilla_pin.ind = hilla_user.ind\n",
    "                GROUP BY\n",
    "                    age_group,\n",
    "                    category\n",
    "            ), category_count_rankings AS (\n",
    "                SELECT\n",
    "                    age_group,\n",
    "                    category,\n",
    "                    category_count,\n",
    "                    RANK() OVER (\n",
    "                        PARTITION BY age_group\n",
    "                        ORDER BY category_count DESC\n",
    "                    ) category_count_ranking\n",
    "                FROM\n",
    "                    category_counts\n",
    "            )\n",
    "            SELECT\n",
    "                age_group,\n",
    "                category,\n",
    "                category_count\n",
    "            FROM\n",
    "                category_count_rankings\n",
    "            WHERE\n",
    "                category_count_ranking = 1;\n",
    "                    \"\"\")\n",
    "\n",
    "sql_df4.write.mode(\"overwrite\").parquet(\"/tmp/parquet/most_popular_category_per_age_group\")"
   ]
  },
  {
   "cell_type": "markdown",
   "metadata": {
    "application/vnd.databricks.v1+cell": {
     "cellMetadata": {},
     "inputWidgets": {},
     "nuid": "8484e742-351c-4e05-ba6f-e83ac6e11186",
     "showTitle": false,
     "title": ""
    }
   },
   "source": [
    "### 5. Find the median follower count for different age groups\n",
    "\n",
    "What is the median follower count for users in the following age groups:\n",
    "\n",
    "18-24\n",
    "25-35\n",
    "36-50\n",
    "+50\n",
    "\n",
    "Your query should return a DataFrame that contains the following columns:\n",
    "\n",
    "- age_group, a new column based on the original age column\n",
    "- median_follower_count, a new column containing the desired query output"
   ]
  },
  {
   "cell_type": "code",
   "execution_count": null,
   "metadata": {
    "application/vnd.databricks.v1+cell": {
     "cellMetadata": {},
     "inputWidgets": {},
     "nuid": "a29097a3-d31a-4326-a8d4-ee6cbc4d6da8",
     "showTitle": false,
     "title": ""
    }
   },
   "outputs": [],
   "source": [
    "sql_df5 = spark.sql(\"\"\"\n",
    "            SELECT\n",
    "                CASE\n",
    "                    WHEN age > 50 THEN '50+'\n",
    "                    WHEN age > 35 THEN '36-50'\n",
    "                    WHEN age > 25 THEN '25-35'\n",
    "                    WHEN age > 17 THEN '18-24'\n",
    "                    ELSE 'invalid age' \n",
    "                END AS age_group,\n",
    "                percentile_approx(follower_count, 0.5) AS median_follower_count\n",
    "            FROM\n",
    "                hilla_pin\n",
    "            LEFT JOIN\n",
    "                hilla_user ON hilla_pin.ind = hilla_user.ind\n",
    "            GROUP BY\n",
    "                age_group\n",
    "            ORDER BY\n",
    "                age_group;\n",
    "            \"\"\")\n",
    "\n",
    "sql_df5.write.mode(\"overwrite\").parquet(\"/tmp/parquet/median_follower_count_per_age_group\")"
   ]
  },
  {
   "cell_type": "markdown",
   "metadata": {
    "application/vnd.databricks.v1+cell": {
     "cellMetadata": {},
     "inputWidgets": {},
     "nuid": "d8e08fca-2cf7-4085-a874-904043ac14b2",
     "showTitle": false,
     "title": ""
    }
   },
   "source": [
    "### 6. Find how many users have joined each year\n",
    "\n",
    "Find how many users have joined between 2015 and 2020.\n",
    "\n",
    "Your query should return a DataFrame that contains the following columns:\n",
    "\n",
    "- post_year, a new column that contains only the year from the timestamp column\n",
    "- number_users_joined, a new column containing the desired query output"
   ]
  },
  {
   "cell_type": "code",
   "execution_count": null,
   "metadata": {
    "application/vnd.databricks.v1+cell": {
     "cellMetadata": {},
     "inputWidgets": {},
     "nuid": "37c8613c-3724-48f8-9a89-81a80d045be3",
     "showTitle": false,
     "title": ""
    }
   },
   "outputs": [],
   "source": [
    "sql_df6 = spark.sql(\"\"\"\n",
    "            FROM (\n",
    "                SELECT\n",
    "                    date_part('year', date_joined) as post_year,\n",
    "                    COUNT(ind) as number_users_joined\n",
    "                FROM\n",
    "                    hilla_user\n",
    "                GROUP BY\n",
    "                    post_year\n",
    "                )\n",
    "            SELECT\n",
    "                post_year,\n",
    "                number_users_joined\n",
    "            WHERE\n",
    "                post_year BETWEEN 2015 and 2022\n",
    "            ORDER BY\n",
    "                post_year;\n",
    "                        \"\"\")\n",
    "\n",
    "sql_df6.write.mode(\"overwrite\").parquet(\"/tmp/parquet/new_users_per_year\")"
   ]
  },
  {
   "cell_type": "markdown",
   "metadata": {
    "application/vnd.databricks.v1+cell": {
     "cellMetadata": {},
     "inputWidgets": {},
     "nuid": "4b2a5514-2232-4bbc-be67-512926defbf9",
     "showTitle": false,
     "title": ""
    }
   },
   "source": [
    "### 7. Find the median follower count of users based on their joining year\n",
    "\n",
    "Find the median follower count of users have joined between 2015 and 2020.\n",
    "\n",
    "Your query should return a DataFrame that contains the following columns:\n",
    "\n",
    "- post_year, a new column that contains only the year from the timestamp column\n",
    "- median_follower_count, a new column containing the desired query output"
   ]
  },
  {
   "cell_type": "code",
   "execution_count": null,
   "metadata": {
    "application/vnd.databricks.v1+cell": {
     "cellMetadata": {},
     "inputWidgets": {},
     "nuid": "9b35e36f-9932-4c2d-9bce-5477c38b757f",
     "showTitle": false,
     "title": ""
    }
   },
   "outputs": [],
   "source": [
    "sql_df7 = spark.sql(\"\"\"\n",
    "        FROM (\n",
    "            SELECT\n",
    "                date_part('year', date_joined) as post_year,\n",
    "                follower_count\n",
    "            FROM\n",
    "                hilla_user\n",
    "            LEFT JOIN\n",
    "                hilla_pin ON hilla_user.ind = hilla_pin.ind\n",
    "            )\n",
    "        SELECT\n",
    "            post_year,\n",
    "            percentile_approx(follower_count, 0.5) AS median_follower_count\n",
    "        WHERE\n",
    "            post_year BETWEEN 2015 AND 2020\n",
    "        GROUP BY\n",
    "            post_year\n",
    "        ORDER BY\n",
    "            post_year;\n",
    "                \"\"\")\n",
    "\n",
    "sql_df7.write.mode(\"overwrite\").parquet(\"/tmp/parquet/median_follower_count_per_joining_year\")"
   ]
  },
  {
   "cell_type": "markdown",
   "metadata": {
    "application/vnd.databricks.v1+cell": {
     "cellMetadata": {},
     "inputWidgets": {},
     "nuid": "b28ab74a-dbe4-4b8f-9a24-131733d47152",
     "showTitle": false,
     "title": ""
    }
   },
   "source": [
    "### 8. Find the median follower count of users based on their joining year and age group\n",
    "\n",
    "Find the median follower count of users that have joined between 2015 and 2020, based on which age group they are part of.\n",
    "\n",
    "Your query should return a DataFrame that contains the following columns:\n",
    "\n",
    "- age_group, a new column based on the original age column\n",
    "- post_year, a new column that contains only the year from the timestamp column\n",
    "- median_follower_count, a new column containing the desired query output"
   ]
  },
  {
   "cell_type": "code",
   "execution_count": null,
   "metadata": {
    "application/vnd.databricks.v1+cell": {
     "cellMetadata": {},
     "inputWidgets": {},
     "nuid": "b08656df-8bb2-4c9c-8db9-15d6286167fe",
     "showTitle": false,
     "title": ""
    }
   },
   "outputs": [],
   "source": [
    "sql_df8 = spark.sql(\"\"\"\n",
    "            SELECT\n",
    "                CASE\n",
    "                    WHEN age > 50 THEN '50+'\n",
    "                    WHEN age > 35 THEN '36-50'\n",
    "                    WHEN age > 25 THEN '25-35'\n",
    "                    WHEN age > 17 THEN '18-24'\n",
    "                    ELSE 'invalid age' \n",
    "                END AS age_group,\n",
    "                date_part('year', date_joined) as post_year,\n",
    "                percentile_approx(follower_count, 0.5) AS median_follower_count\n",
    "            FROM\n",
    "                hilla_pin\n",
    "            RIGHT JOIN\n",
    "                hilla_user ON hilla_pin.ind = hilla_user.ind\n",
    "            GROUP BY\n",
    "                age_group,\n",
    "                post_year\n",
    "            ORDER BY\n",
    "                post_year,\n",
    "                age_group;\n",
    "                    \"\"\")\n",
    "\n",
    "sql_df8.write.mode(\"overwrite\").parquet(\"/tmp/parquet/median_follower_count_per_joining_year_and_age_group\")"
   ]
  }
 ],
 "metadata": {
  "application/vnd.databricks.v1+notebook": {
   "dashboards": [],
   "language": "python",
   "notebookMetadata": {
    "pythonIndentUnit": 4
   },
   "notebookName": "data_queries",
   "widgets": {}
  },
  "language_info": {
   "name": "python"
  }
 },
 "nbformat": 4,
 "nbformat_minor": 0
}
