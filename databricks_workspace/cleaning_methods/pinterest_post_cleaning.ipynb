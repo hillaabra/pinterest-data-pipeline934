{
 "cells": [
  {
   "cell_type": "code",
   "execution_count": 0,
   "metadata": {
    "application/vnd.databricks.v1+cell": {
     "cellMetadata": {},
     "inputWidgets": {},
     "nuid": "31023428-ef4f-4c6a-80d2-2f73a5431d6e",
     "showTitle": false,
     "title": ""
    }
   },
   "outputs": [],
   "source": [
    "import re\n",
    "\n",
    "from pyspark.sql.functions import col, udf\n",
    "from pyspark.sql.types import IntegerType\n",
    "\n",
    "\n",
    "def convert_follower_count_letters_to_digits(str):\n",
    "    if str is not None:\n",
    "        str = re.sub(r'M', '000000', str)\n",
    "        str = re.sub(r'k', '000', str)\n",
    "        return str\n",
    "    \n",
    "follower_count_UDF = udf(lambda x:convert_follower_count_letters_to_digits(x))\n",
    "\n",
    "def strip_down_to_save_location_filepath(str):\n",
    "    if str is not None:\n",
    "        str = re.sub(r'Local save in ', '', str)\n",
    "        return str\n",
    "    \n",
    "save_location_UDF = udf(lambda x:strip_down_to_save_location_filepath(x))\n",
    "\n",
    "def clean_pin_df(df_pin):\n",
    "\n",
    "    # remove duplicate rows\n",
    "    df_pin = df_pin.distinct()\n",
    "\n",
    "    # replace entries with no data or no useful data with None\n",
    "    df_pin = df_pin.na.replace({\"User Info Error\": None}, 'follower_count')\n",
    "    df_pin = df_pin.na.replace({\"No description available\": None,\n",
    "                                \"No description available Story format\": None}, 'description')\n",
    "    df_pin = df_pin.na.replace({\"N,o, ,T,a,g,s, ,A,v,a,i,l,a,b,l,e\": None}, 'tag_list')\n",
    "    df_pin = df_pin.na.replace({\"No Title Data Available\": None}, 'title')\n",
    "    df_pin = df_pin.na.replace({\"Image src error.\": None}, 'image_src')\n",
    "\n",
    "    # convert all follower_count entries to numeric values\n",
    "    df_pin = df_pin.withColumn(\"follower_count\", follower_count_UDF(col(\"follower_count\")).cast(IntegerType()))\n",
    "\n",
    "    # clean save_location column to include just filepath\n",
    "    df_pin = df_pin.withColumn(\"save_location\", save_location_UDF(col(\"save_location\")))\n",
    "\n",
    "    # rename index column to ind\n",
    "    df_pin = df_pin.withColumnRenamed(\"index\", \"ind\")\n",
    "\n",
    "    # reorder the columns (NB this drops the downloaded column)\n",
    "    df_pin = df_pin.select([\"ind\", \"unique_id\", \"title\", \"description\", \"follower_count\", \"poster_name\", \"tag_list\", \"is_image_or_video\", \"image_src\", \"save_location\", \"category\"])\n",
    "\n",
    "    # also turn tag list strings into array values?\n",
    "\n",
    "    return df_pin"
   ]
  }
 ],
 "metadata": {
  "application/vnd.databricks.v1+notebook": {
   "dashboards": [],
   "language": "python",
   "notebookMetadata": {
    "pythonIndentUnit": 4
   },
   "notebookName": "pinterest_post_cleaning",
   "widgets": {}
  }
 },
 "nbformat": 4,
 "nbformat_minor": 0
}
