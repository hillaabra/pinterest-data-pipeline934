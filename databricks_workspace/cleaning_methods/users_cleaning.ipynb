{
 "cells": [
  {
   "cell_type": "code",
   "execution_count": 0,
   "metadata": {
    "application/vnd.databricks.v1+cell": {
     "cellMetadata": {},
     "inputWidgets": {},
     "nuid": "82e720ce-1a2c-4815-b524-da60a92accdd",
     "showTitle": false,
     "title": ""
    }
   },
   "outputs": [],
   "source": [
    "from pyspark.sql.functions import col, concat_ws, to_timestamp\n",
    "\n",
    "\n",
    "def clean_user_df(df_user):\n",
    "\n",
    "    # create a new column user_name that concatenates the information found in the first_name and last_name columns\n",
    "    df_user = df_user.withColumn(\"user_name\", concat_ws(\" \", col(\"first_name\"), col(\"last_name\")))\n",
    "\n",
    "    # convert date_joined column from string to timestamp data type\n",
    "    df_user = df_user.withColumn(\"date_joined\", to_timestamp(col(\"date_joined\"), \"yyyy:MM:dd HH:mm:ss\"))\n",
    "\n",
    "    # reorder the columns and drop the longitude and latitude columns, dropping first_name and last_name columns\n",
    "    df_user = df_user.select([\"ind\", \"user_name\", \"age\", \"date_joined\"]) \n",
    "\n",
    "    return df_user"
   ]
  }
 ],
 "metadata": {
  "application/vnd.databricks.v1+notebook": {
   "dashboards": [],
   "language": "python",
   "notebookMetadata": {
    "pythonIndentUnit": 4
   },
   "notebookName": "users_cleaning",
   "widgets": {}
  }
 },
 "nbformat": 4,
 "nbformat_minor": 0
}
