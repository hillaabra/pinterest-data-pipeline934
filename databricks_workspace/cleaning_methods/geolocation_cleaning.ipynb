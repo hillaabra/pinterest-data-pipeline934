{
 "cells": [
  {
   "cell_type": "code",
   "execution_count": 0,
   "metadata": {
    "application/vnd.databricks.v1+cell": {
     "cellMetadata": {},
     "inputWidgets": {},
     "nuid": "80ead954-52e0-49f9-bfd7-8eb1d8800ad4",
     "showTitle": false,
     "title": ""
    }
   },
   "outputs": [],
   "source": [
    "from pyspark.sql.functions import col, to_timestamp\n",
    "\n",
    "# define clean_geo_df function\n",
    "def clean_geo_df(df_geo):\n",
    "    df_geo = df_geo.withColumn(\"coordinates\", array(geo_data_processor._extracted_batch_data.latitude, geo_data_processor._extracted_batch_data.longitude))\n",
    "    df_geo = df_geo.withColumn(\"timestamp\", to_timestamp(col(\"timestamp\"), \"yyyy:MM:dd HH:mm:ss\"))\n",
    "\n",
    "    # reorder the columns and drop the longitude and latitude columns\n",
    "    df_geo = df_geo.select([\"ind\", \"country\", \"coordinates\", \"timestamp\"])\n",
    "\n",
    "    return df_geo "
   ]
  }
 ],
 "metadata": {
  "application/vnd.databricks.v1+notebook": {
   "dashboards": [],
   "language": "python",
   "notebookMetadata": {
    "pythonIndentUnit": 4
   },
   "notebookName": "geolocation_cleaning",
   "widgets": {}
  }
 },
 "nbformat": 4,
 "nbformat_minor": 0
}
